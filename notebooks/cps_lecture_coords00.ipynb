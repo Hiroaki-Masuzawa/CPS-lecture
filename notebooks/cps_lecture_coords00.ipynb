{
 "cells": [
  {
   "cell_type": "markdown",
   "id": "8b64bfbf",
   "metadata": {},
   "source": [
    "# 3次元座標系"
   ]
  },
  {
   "cell_type": "code",
   "execution_count": 49,
   "id": "b04cfac8-c8cd-40b7-8064-991768de35ee",
   "metadata": {},
   "outputs": [],
   "source": [
    "exec(open('/choreonoid_ws/install/share/irsl_choreonoid/sample/irsl_import.py').read())"
   ]
  },
  {
   "cell_type": "markdown",
   "id": "ba187e6a",
   "metadata": {},
   "source": [
    "## 3次元位置\n",
    "`numpy.array([x,y,z])` として3次元のベクトルを作ります。\n",
    "\n",
    "`from numpy import array as npa` となっているので `npa` と書けます。"
   ]
  },
  {
   "cell_type": "code",
   "execution_count": 2,
   "id": "e865b04b-6747-4509-863b-6a78d03081ae",
   "metadata": {},
   "outputs": [],
   "source": [
    "pos = npa([1, 2, 3])"
   ]
  },
  {
   "cell_type": "code",
   "execution_count": 3,
   "id": "24f5e09d-de44-4bc8-a12e-15c7e58413ec",
   "metadata": {},
   "outputs": [
    {
     "data": {
      "text/plain": [
       "array([1, 2, 3])"
      ]
     },
     "execution_count": 3,
     "metadata": {},
     "output_type": "execute_result"
    }
   ],
   "source": [
    "pos"
   ]
  },
  {
   "cell_type": "code",
   "execution_count": 4,
   "id": "ae4e9ea8",
   "metadata": {},
   "outputs": [],
   "source": [
    "v0 = npa([1, 1, 0])\n",
    "v1 = npa([2, 2, -2])"
   ]
  },
  {
   "cell_type": "markdown",
   "id": "11743b69",
   "metadata": {},
   "source": [
    "### ベクトルの足し算"
   ]
  },
  {
   "cell_type": "code",
   "execution_count": 5,
   "id": "75102ecc",
   "metadata": {},
   "outputs": [
    {
     "data": {
      "text/plain": [
       "array([ 3,  3, -2])"
      ]
     },
     "execution_count": 5,
     "metadata": {},
     "output_type": "execute_result"
    }
   ],
   "source": [
    "v0 + v1"
   ]
  },
  {
   "cell_type": "markdown",
   "id": "5b636b66",
   "metadata": {},
   "source": [
    "### スカラー積"
   ]
  },
  {
   "cell_type": "code",
   "execution_count": 6,
   "id": "410b75ef",
   "metadata": {},
   "outputs": [
    {
     "data": {
      "text/plain": [
       "array([3, 3, 0])"
      ]
     },
     "execution_count": 6,
     "metadata": {},
     "output_type": "execute_result"
    }
   ],
   "source": [
    "3 * v0"
   ]
  },
  {
   "cell_type": "markdown",
   "id": "16a6dce4",
   "metadata": {},
   "source": [
    "## 3次元の回転\n",
    "3次元の回転は3x3行列で表されます。\n",
    "\n",
    "3要素のリスト３つのリストとして 3x3行列を作ります。"
   ]
  },
  {
   "cell_type": "code",
   "execution_count": 7,
   "id": "538db703-ee7f-4e7f-a629-2f5813f2942d",
   "metadata": {},
   "outputs": [],
   "source": [
    "rot = npa([[1,0,0],[0,1,0],[0,0,1]])"
   ]
  },
  {
   "cell_type": "code",
   "execution_count": 8,
   "id": "9c0714c6-e035-4b5a-9e86-9d6f82a29e31",
   "metadata": {},
   "outputs": [
    {
     "data": {
      "text/plain": [
       "array([[1, 0, 0],\n",
       "       [0, 1, 0],\n",
       "       [0, 0, 1]])"
      ]
     },
     "execution_count": 8,
     "metadata": {},
     "output_type": "execute_result"
    }
   ],
   "source": [
    "rot"
   ]
  },
  {
   "cell_type": "markdown",
   "id": "04bd3bd2",
   "metadata": {},
   "source": [
    "### クオータニオン"
   ]
  },
  {
   "cell_type": "code",
   "execution_count": 9,
   "id": "8d640070-0666-4a1d-8cb2-f5d10f2dc727",
   "metadata": {},
   "outputs": [],
   "source": [
    "q = IC.rotationToQuaternion(rot)"
   ]
  },
  {
   "cell_type": "code",
   "execution_count": 10,
   "id": "0ae25dc2-089a-4a62-8fc8-c988f774ee84",
   "metadata": {},
   "outputs": [
    {
     "data": {
      "text/plain": [
       "array([0., 0., 0., 1.])"
      ]
     },
     "execution_count": 10,
     "metadata": {},
     "output_type": "execute_result"
    }
   ],
   "source": [
    "q"
   ]
  },
  {
   "cell_type": "markdown",
   "id": "8f3c3b28",
   "metadata": {},
   "source": [
    "### AngleAxis\n",
    "軸周りの回転\n",
    "\n",
    "coordinatex.X, coordinatex.Y, coordinatex.Z はそれぞれ、x軸,y軸,z軸を表す3次元ベクトルです。"
   ]
  },
  {
   "cell_type": "code",
   "execution_count": null,
   "id": "af44114a",
   "metadata": {},
   "outputs": [],
   "source": [
    "[1, 0, 0]軸 (x軸) の周りに pi/3 [radian] 回転させる"
   ]
  },
  {
   "cell_type": "code",
   "execution_count": 11,
   "id": "a80d7a2f-e90b-42dd-9ca6-7dfa13f70327",
   "metadata": {},
   "outputs": [],
   "source": [
    "arot = IC.angleAxisNormalized(PI/3, coordinates.X)"
   ]
  },
  {
   "cell_type": "code",
   "execution_count": 14,
   "id": "c7287455-e31c-4fc1-8da7-241e4876835d",
   "metadata": {},
   "outputs": [
    {
     "data": {
      "text/plain": [
       "3.141592653589793"
      ]
     },
     "execution_count": 14,
     "metadata": {},
     "output_type": "execute_result"
    }
   ],
   "source": [
    "PI"
   ]
  },
  {
   "cell_type": "code",
   "execution_count": 12,
   "id": "57bc11b5-2c60-4b90-81db-8197470a3dec",
   "metadata": {},
   "outputs": [
    {
     "data": {
      "text/plain": [
       "array([[ 1.       ,  0.       ,  0.       ],\n",
       "       [ 0.       ,  0.5      , -0.8660254],\n",
       "       [ 0.       ,  0.8660254,  0.5      ]])"
      ]
     },
     "execution_count": 12,
     "metadata": {},
     "output_type": "execute_result"
    }
   ],
   "source": [
    "arot"
   ]
  },
  {
   "cell_type": "markdown",
   "id": "a0986eec",
   "metadata": {},
   "source": [
    "### ベクトルの回転\n",
    "\n",
    "Matrix(3x3) x vector(1x3)\n",
    "\n",
    "Matrix.dot(vector)"
   ]
  },
  {
   "cell_type": "code",
   "execution_count": 15,
   "id": "36121cbc",
   "metadata": {},
   "outputs": [
    {
     "data": {
      "text/plain": [
       "array([2.        , 2.73205081, 0.73205081])"
      ]
     },
     "execution_count": 15,
     "metadata": {},
     "output_type": "execute_result"
    }
   ],
   "source": [
    "arot.dot(v1)"
   ]
  },
  {
   "cell_type": "markdown",
   "id": "3e7a8e65",
   "metadata": {},
   "source": [
    "## 3次元の座標系\n",
    "以下の資料を参照してください。\n",
    "\n",
    "[3次元座標系の説明](https://irsl-tut.github.io/irsl_documents/ja/coordinates.html)\n",
    "\n",
    "[pythonでのcoordinatesの使い方](https://irsl-tut.github.io/irsl_documents/ja/module_cnoid_irslcoords.html#class-cnoid-irslcoords-coordinates)"
   ]
  },
  {
   "cell_type": "markdown",
   "id": "2356c430",
   "metadata": {},
   "source": [
    "### 座標系の生成"
   ]
  },
  {
   "cell_type": "code",
   "execution_count": 16,
   "id": "fc64c67a-5032-455c-87e0-b5430fd7c3e1",
   "metadata": {},
   "outputs": [],
   "source": [
    "cds = coordinates(pos, rot)"
   ]
  },
  {
   "cell_type": "code",
   "execution_count": 17,
   "id": "1afec126-370c-4706-a2c1-d61f8273452d",
   "metadata": {
    "scrolled": true
   },
   "outputs": [
    {
     "data": {
      "text/plain": [
       "<coordinates[0x5560b82fd1d0] 1 2 3 / 0 0 0 1 >"
      ]
     },
     "execution_count": 17,
     "metadata": {},
     "output_type": "execute_result"
    }
   ],
   "source": [
    "cds"
   ]
  },
  {
   "cell_type": "code",
   "execution_count": 20,
   "id": "bedbe007-bbe8-4dfd-b78b-87fa063a73eb",
   "metadata": {},
   "outputs": [
    {
     "data": {
      "text/plain": [
       "True"
      ]
     },
     "execution_count": 20,
     "metadata": {},
     "output_type": "execute_result"
    }
   ],
   "source": [
    "c0=cds\n",
    "c0 is cds"
   ]
  },
  {
   "cell_type": "code",
   "execution_count": 21,
   "id": "81f3f78f-2ac8-47d0-be0c-1520d3565b43",
   "metadata": {},
   "outputs": [],
   "source": [
    "c1 = coordinates(pos, rot)"
   ]
  },
  {
   "cell_type": "code",
   "execution_count": 22,
   "id": "f3d87db0-908b-4ea9-b50d-246803e5fa9c",
   "metadata": {},
   "outputs": [
    {
     "data": {
      "text/plain": [
       "<coordinates[0x5560b8474990] 1 2 3 / 0 0 0 1 >"
      ]
     },
     "execution_count": 22,
     "metadata": {},
     "output_type": "execute_result"
    }
   ],
   "source": [
    "c1"
   ]
  },
  {
   "cell_type": "code",
   "execution_count": 25,
   "id": "f97eb5d1-9e2f-49f1-84c6-5df1d7966da6",
   "metadata": {},
   "outputs": [
    {
     "data": {
      "text/plain": [
       "True"
      ]
     },
     "execution_count": 25,
     "metadata": {},
     "output_type": "execute_result"
    }
   ],
   "source": [
    "c0.equal(c1, 1e-20)"
   ]
  },
  {
   "cell_type": "markdown",
   "id": "4f9ed1a4",
   "metadata": {},
   "source": [
    "coordinatesの表示は <coordinates[address] x y z / qx qy qz qw> となっています。\n",
    "\n",
    "x, y, zは3次元の位置、qx, qy, qz, qw は回転を表すクオータニオンです。"
   ]
  },
  {
   "cell_type": "code",
   "execution_count": 16,
   "id": "87ded49b-0d3e-43ef-8259-0cd197208aba",
   "metadata": {},
   "outputs": [],
   "source": [
    "cds.rot = arot"
   ]
  },
  {
   "cell_type": "code",
   "execution_count": 17,
   "id": "d82fff12-4544-4595-898a-817efdc8d402",
   "metadata": {},
   "outputs": [
    {
     "data": {
      "text/plain": [
       "<coordinates[0x563c7272e340] 1 2 3 / 0.5 0 0 0.866025 >"
      ]
     },
     "execution_count": 17,
     "metadata": {},
     "output_type": "execute_result"
    }
   ],
   "source": [
    "cds"
   ]
  },
  {
   "cell_type": "markdown",
   "id": "a02789d8-4b24-406d-9925-45fcdcac0132",
   "metadata": {},
   "source": [
    "### "
   ]
  },
  {
   "cell_type": "markdown",
   "id": "beb337cc",
   "metadata": {},
   "source": [
    "### 座標系の移動"
   ]
  },
  {
   "cell_type": "code",
   "execution_count": 26,
   "id": "bc35cdfc-bcd3-4e62-a8bd-f9f85adc6f2a",
   "metadata": {},
   "outputs": [],
   "source": [
    "cds2 = coordinates()"
   ]
  },
  {
   "cell_type": "code",
   "execution_count": 27,
   "id": "72a0dae0",
   "metadata": {},
   "outputs": [
    {
     "data": {
      "text/plain": [
       "<coordinates[0x5560b8443ff0] 0 1 0 / 0 0 0 1 >"
      ]
     },
     "execution_count": 27,
     "metadata": {},
     "output_type": "execute_result"
    }
   ],
   "source": [
    "cds2.translate(npa([0, 1, 0]))"
   ]
  },
  {
   "cell_type": "markdown",
   "id": "d11d0c3d",
   "metadata": {},
   "source": [
    "### 座標系の回転"
   ]
  },
  {
   "cell_type": "code",
   "execution_count": 28,
   "id": "b0e208d9-8f14-4026-a081-ab125e3f2d64",
   "metadata": {},
   "outputs": [
    {
     "data": {
      "text/plain": [
       "<coordinates[0x5560b8443ff0] 0 1 0 / 0.5 0 0 0.866025 >"
      ]
     },
     "execution_count": 28,
     "metadata": {},
     "output_type": "execute_result"
    }
   ],
   "source": [
    "cds2.rotate(PI/3, coordinates.X)"
   ]
  },
  {
   "cell_type": "markdown",
   "id": "a384efb9",
   "metadata": {},
   "source": [
    "### 同次変換行列(Homogeneous transformation matrix)\n",
    "```\n",
    "T = | Rot p |\n",
    "    | 0   1 |\n",
    "```"
   ]
  },
  {
   "cell_type": "code",
   "execution_count": 29,
   "id": "e9364a41",
   "metadata": {},
   "outputs": [
    {
     "data": {
      "text/plain": [
       "array([[ 1.       ,  0.       ,  0.       ,  0.       ],\n",
       "       [ 0.       ,  0.5      , -0.8660254,  1.       ],\n",
       "       [ 0.       ,  0.8660254,  0.5      ,  0.       ],\n",
       "       [ 0.       ,  0.       ,  0.       ,  1.       ]])"
      ]
     },
     "execution_count": 29,
     "metadata": {},
     "output_type": "execute_result"
    }
   ],
   "source": [
    "cds2.cnoidPosition"
   ]
  },
  {
   "cell_type": "markdown",
   "id": "0a90d9e4",
   "metadata": {},
   "source": [
    "### 同次変換行列の計算\n",
    "T1, T2は以下のようになります。\n",
    "```\n",
    "T1 = | R1 p1 |\n",
    "     | 0   1 |\n",
    "```\n",
    "\n",
    "```\n",
    "T2 = | R2 p2 |\n",
    "     | 0   1 |\n",
    "```\n",
    "\n",
    "T1とT2の掛け算は以下のようになります。\n",
    "```\n",
    "T1 * T2  = | R1R2  R1p2 + p1 |\n",
    "           |    0      1     |\n",
    "```\n"
   ]
  },
  {
   "cell_type": "code",
   "execution_count": 32,
   "id": "ff79dcfe",
   "metadata": {},
   "outputs": [],
   "source": [
    "Rot1 = IC.angleAxisNormalized( PI/3, coordinates.X)\n",
    "Rot2 = IC.angleAxisNormalized(-PI/4, coordinates.Y)\n",
    "pos1 = npa([ 1,  2,  3])\n",
    "pos2 = npa([-3, -1, -2])\n",
    "cds1 = coordinates(pos1, Rot1)\n",
    "cds2 = coordinates(pos2, Rot2)"
   ]
  },
  {
   "cell_type": "code",
   "execution_count": 33,
   "id": "aa075b4c",
   "metadata": {},
   "outputs": [
    {
     "data": {
      "text/plain": [
       "array([[ 1.       ,  0.       ,  0.       ,  1.       ],\n",
       "       [ 0.       ,  0.5      , -0.8660254,  2.       ],\n",
       "       [ 0.       ,  0.8660254,  0.5      ,  3.       ],\n",
       "       [ 0.       ,  0.       ,  0.       ,  1.       ]])"
      ]
     },
     "execution_count": 33,
     "metadata": {},
     "output_type": "execute_result"
    }
   ],
   "source": [
    "cds1.cnoidPosition"
   ]
  },
  {
   "cell_type": "code",
   "execution_count": 34,
   "id": "b2964ddc",
   "metadata": {},
   "outputs": [
    {
     "data": {
      "text/plain": [
       "array([[ 0.70710678,  0.        , -0.70710678, -3.        ],\n",
       "       [ 0.        ,  1.        ,  0.        , -1.        ],\n",
       "       [ 0.70710678,  0.        ,  0.70710678, -2.        ],\n",
       "       [ 0.        ,  0.        ,  0.        ,  1.        ]])"
      ]
     },
     "execution_count": 34,
     "metadata": {},
     "output_type": "execute_result"
    }
   ],
   "source": [
    "cds2.cnoidPosition"
   ]
  },
  {
   "cell_type": "code",
   "execution_count": 35,
   "id": "6e9d7749",
   "metadata": {},
   "outputs": [
    {
     "data": {
      "text/plain": [
       "array([[ 0.70710678,  0.        , -0.70710678, -2.        ],\n",
       "       [-0.61237244,  0.5       , -0.61237244,  3.23205081],\n",
       "       [ 0.35355339,  0.8660254 ,  0.35355339,  1.1339746 ],\n",
       "       [ 0.        ,  0.        ,  0.        ,  1.        ]])"
      ]
     },
     "execution_count": 35,
     "metadata": {},
     "output_type": "execute_result"
    }
   ],
   "source": [
    "cds1.cnoidPosition.dot(cds2.cnoidPosition)"
   ]
  },
  {
   "cell_type": "code",
   "execution_count": 36,
   "id": "b19dfe81",
   "metadata": {},
   "outputs": [
    {
     "data": {
      "text/plain": [
       "array([[ 0.70710678,  0.        , -0.70710678],\n",
       "       [-0.61237244,  0.5       , -0.61237244],\n",
       "       [ 0.35355339,  0.8660254 ,  0.35355339]])"
      ]
     },
     "execution_count": 36,
     "metadata": {},
     "output_type": "execute_result"
    }
   ],
   "source": [
    "Rot1.dot(Rot2)"
   ]
  },
  {
   "cell_type": "code",
   "execution_count": 37,
   "id": "fe63f4dd",
   "metadata": {},
   "outputs": [
    {
     "data": {
      "text/plain": [
       "array([-2.        ,  3.23205081,  1.1339746 ])"
      ]
     },
     "execution_count": 37,
     "metadata": {},
     "output_type": "execute_result"
    }
   ],
   "source": [
    "Rot1.dot(pos2) + pos1"
   ]
  },
  {
   "cell_type": "code",
   "execution_count": 39,
   "id": "de587165",
   "metadata": {},
   "outputs": [],
   "source": [
    "cds_a = coordinates(Rot1.dot(pos2) + pos1, Rot1.dot(Rot2))"
   ]
  },
  {
   "cell_type": "code",
   "execution_count": 40,
   "id": "b700365a",
   "metadata": {},
   "outputs": [],
   "source": [
    "cds_b = cds1.copy().transform(cds2)"
   ]
  },
  {
   "cell_type": "code",
   "execution_count": 41,
   "id": "863611d8",
   "metadata": {},
   "outputs": [
    {
     "data": {
      "text/plain": [
       "<coordinates[0x5560b84869d0] -2 3.23205 1.13397 / 0.46194 -0.331414 -0.191342 0.800103 >"
      ]
     },
     "execution_count": 41,
     "metadata": {},
     "output_type": "execute_result"
    }
   ],
   "source": [
    "cds_a"
   ]
  },
  {
   "cell_type": "code",
   "execution_count": 42,
   "id": "0a460843",
   "metadata": {},
   "outputs": [
    {
     "data": {
      "text/plain": [
       "<coordinates[0x5560b8443ff0] -2 3.23205 1.13397 / 0.46194 -0.331414 -0.191342 0.800103 >"
      ]
     },
     "execution_count": 42,
     "metadata": {},
     "output_type": "execute_result"
    }
   ],
   "source": [
    "cds_b"
   ]
  },
  {
   "cell_type": "code",
   "execution_count": 43,
   "id": "2889aa2c-d724-49ae-b2c7-c7dbcc5494f7",
   "metadata": {},
   "outputs": [
    {
     "data": {
      "text/plain": [
       "True"
      ]
     },
     "execution_count": 43,
     "metadata": {},
     "output_type": "execute_result"
    }
   ],
   "source": [
    "cds_a.equal(cds_b)"
   ]
  },
  {
   "cell_type": "code",
   "execution_count": 44,
   "id": "41c1edfc",
   "metadata": {},
   "outputs": [
    {
     "data": {
      "text/plain": [
       "array([[ 0.70710678,  0.        , -0.70710678, -2.        ],\n",
       "       [-0.61237244,  0.5       , -0.61237244,  3.23205081],\n",
       "       [ 0.35355339,  0.8660254 ,  0.35355339,  1.1339746 ],\n",
       "       [ 0.        ,  0.        ,  0.        ,  1.        ]])"
      ]
     },
     "execution_count": 44,
     "metadata": {},
     "output_type": "execute_result"
    }
   ],
   "source": [
    "cds_a.cnoidPosition"
   ]
  },
  {
   "cell_type": "markdown",
   "id": "b007821c",
   "metadata": {},
   "source": [
    "## 座標系の表示"
   ]
  },
  {
   "cell_type": "markdown",
   "id": "86ae2a50",
   "metadata": {},
   "source": [
    "### 表示用のオブジェクト\n",
    "DrawCoordsを使う。\n",
    "\n",
    "`from irsl_choreonoid.draw_coords import DrawCoordsListWrapped as DrawCoords` となっている。\n",
    "\n",
    "DrawCoords(length, width) で表示用のオブジェクトを作成。\n",
    "\n",
    "lengthは矢印の長さ[m], widthは矢印の太さ[pixel] となっています。"
   ]
  },
  {
   "cell_type": "code",
   "execution_count": 45,
   "id": "110ee708-1f05-4648-863a-9e660d3de35a",
   "metadata": {},
   "outputs": [],
   "source": [
    "dc = DrawCoords(length=0.5, width=5)"
   ]
  },
  {
   "cell_type": "code",
   "execution_count": 47,
   "id": "0c284425-2e06-46c5-a2ef-e26075abb677",
   "metadata": {},
   "outputs": [],
   "source": [
    "org = coordinates()"
   ]
  },
  {
   "cell_type": "markdown",
   "id": "a3927f15",
   "metadata": {},
   "source": [
    "### addCoords 表示座標の追加"
   ]
  },
  {
   "cell_type": "code",
   "execution_count": 48,
   "id": "f365950c-6e5d-4f8e-9ca8-f1aa419758f7",
   "metadata": {},
   "outputs": [
    {
     "data": {
      "text/plain": [
       "1"
      ]
     },
     "execution_count": 48,
     "metadata": {},
     "output_type": "execute_result"
    }
   ],
   "source": [
    "dc.addCoords(org)"
   ]
  },
  {
   "cell_type": "code",
   "execution_count": 50,
   "id": "70a7dc59-d457-4647-b154-b5e4cd886dfc",
   "metadata": {},
   "outputs": [
    {
     "data": {
      "text/plain": [
       "2"
      ]
     },
     "execution_count": 50,
     "metadata": {},
     "output_type": "execute_result"
    }
   ],
   "source": [
    "dc.addCoords(cds2)"
   ]
  },
  {
   "cell_type": "markdown",
   "id": "fb2452e4",
   "metadata": {},
   "source": [
    "### 画面のファイル化\n",
    "`%display` とすると、表示画面がnotebookにダウンロードできます。\n",
    "\n",
    "これはpythonのコマンドではありません。\n",
    "\n",
    "本講義のchoreonoidを使ったjupyterのみで使えるコマンドです。"
   ]
  },
  {
   "cell_type": "code",
   "execution_count": 51,
   "id": "af4ecea3-b86d-47bc-b970-c42c20871fae",
   "metadata": {
    "scrolled": true
   },
   "outputs": [
    {
     "data": {
      "image/png": "[encoded data removed]"
     },
     "execution_count": 51,
     "metadata": {},
     "output_type": "execute_result"
    }
   ],
   "source": [
    "%display"
   ]
  },
  {
   "cell_type": "markdown",
   "id": "1a7f5b85",
   "metadata": {},
   "source": [
    "### 座標系の表示を消す"
   ]
  },
  {
   "cell_type": "code",
   "execution_count": 53,
   "id": "957a4071-b5eb-4efa-bc52-e7a7327ad974",
   "metadata": {},
   "outputs": [],
   "source": [
    "dc.clear()"
   ]
  },
  {
   "cell_type": "code",
   "execution_count": 54,
   "id": "569d9527",
   "metadata": {},
   "outputs": [
    {
     "data": {
      "image/png": "[encoded data removed]"
     },
     "execution_count": 54,
     "metadata": {},
     "output_type": "execute_result"
    }
   ],
   "source": [
    "%display"
   ]
  },
  {
   "cell_type": "markdown",
   "id": "f7139f35",
   "metadata": {},
   "source": [
    "### 座標系の表示の移動\n",
    "dc を、translate, rotate, transform, newcoords のメソッドで位置を変更すると、表示座標系の基準を移動させることができる。"
   ]
  },
  {
   "cell_type": "code",
   "execution_count": 55,
   "id": "cfad5ebd-5ab9-4d89-8847-c76576675ac7",
   "metadata": {},
   "outputs": [
    {
     "data": {
      "text/plain": [
       "<coordinates[0x5560b83d9e20] -3.35355 -0.5 -1.64645 / 0 -0.382683 0 0.92388 >"
      ]
     },
     "execution_count": 55,
     "metadata": {},
     "output_type": "execute_result"
    }
   ],
   "source": [
    "cds2.translate(npa([0, 0.5, 0.5]))"
   ]
  },
  {
   "cell_type": "code",
   "execution_count": 56,
   "id": "84ec75cc",
   "metadata": {},
   "outputs": [
    {
     "data": {
      "text/plain": [
       "1"
      ]
     },
     "execution_count": 56,
     "metadata": {},
     "output_type": "execute_result"
    }
   ],
   "source": [
    "dc.addCoords(coordinates())"
   ]
  },
  {
   "cell_type": "code",
   "execution_count": 57,
   "id": "663c9634-76dc-41a3-af6b-865ad37eeb2c",
   "metadata": {},
   "outputs": [
    {
     "data": {
      "text/plain": [
       "2"
      ]
     },
     "execution_count": 57,
     "metadata": {},
     "output_type": "execute_result"
    }
   ],
   "source": [
    "dc.addCoords(cds2)"
   ]
  },
  {
   "cell_type": "code",
   "execution_count": 58,
   "id": "130a2388-232c-4488-8cb4-bfdf513666d8",
   "metadata": {},
   "outputs": [
    {
     "data": {
      "image/png": "[encoded data removed]"
     },
     "execution_count": 58,
     "metadata": {},
     "output_type": "execute_result"
    }
   ],
   "source": [
    "%display"
   ]
  },
  {
   "cell_type": "markdown",
   "id": "b8d49505",
   "metadata": {},
   "source": [
    "原点を移動させます"
   ]
  },
  {
   "cell_type": "code",
   "execution_count": 62,
   "id": "4355cf81",
   "metadata": {},
   "outputs": [
    {
     "data": {
      "text/plain": [
       "Wrap <class 'irsl_choreonoid.draw_coords.DrawCoordsListWrapped'> : <coordinates[0x5560b85037a0] 0 0 0.6 / 0 0 0 1 >"
      ]
     },
     "execution_count": 62,
     "metadata": {},
     "output_type": "execute_result"
    }
   ],
   "source": [
    "dc.translate(npa([0, 0, 0.6]))"
   ]
  },
  {
   "cell_type": "code",
   "execution_count": 61,
   "id": "d2d5a13d",
   "metadata": {},
   "outputs": [
    {
     "data": {
      "image/png": "[encoded data removed]"
     },
     "execution_count": 61,
     "metadata": {},
     "output_type": "execute_result"
    }
   ],
   "source": [
    "%display"
   ]
  },
  {
   "cell_type": "code",
   "execution_count": 63,
   "id": "494813b0-303d-4fc5-8247-2f33f839c84c",
   "metadata": {},
   "outputs": [
    {
     "data": {
      "image/png": "[encoded data removed]"
     },
     "execution_count": 63,
     "metadata": {},
     "output_type": "execute_result"
    }
   ],
   "source": [
    "%display"
   ]
  },
  {
   "cell_type": "markdown",
   "id": "0e80097c-f279-4fac-9512-f3966e5bfa65",
   "metadata": {},
   "source": [
    "原点を回転させます。\n",
    "\n",
    "y軸周りにPI/4の回転"
   ]
  },
  {
   "cell_type": "code",
   "execution_count": 69,
   "id": "7ee56a72-6858-4c0c-b02b-9c055ceae845",
   "metadata": {},
   "outputs": [
    {
     "data": {
      "text/plain": [
       "Wrap <class 'irsl_choreonoid.draw_coords.DrawCoordsListWrapped'> : <coordinates[0x5560b85037a0] 0 0 0.6 / 0 2.77556e-17 0 1 >"
      ]
     },
     "execution_count": 69,
     "metadata": {},
     "output_type": "execute_result"
    }
   ],
   "source": [
    "dc.rotate(PI/8, coordinates.Y)"
   ]
  },
  {
   "cell_type": "code",
   "execution_count": 70,
   "id": "2cc2f067",
   "metadata": {},
   "outputs": [
    {
     "data": {
      "image/png": "[encoded data removed]"
     },
     "execution_count": 70,
     "metadata": {},
     "output_type": "execute_result"
    }
   ],
   "source": [
    "%display"
   ]
  },
  {
   "cell_type": "code",
   "execution_count": null,
   "id": "bf41bf0e-639a-4b40-92ef-f5063c7598ce",
   "metadata": {},
   "outputs": [],
   "source": []
  }
 ],
 "metadata": {
  "kernelspec": {
   "display_name": "Robot Programming",
   "language": "python",
   "name": "roboprog"
  },
  "language_info": {
   "codemirror_mode": "",
   "file_extension": ".py",
   "mimetype": "text/x-python",
   "name": "python",
   "nbconvert_exporter": "",
   "pygments_lexer": "",
   "version": "3.7"
  }
 },
 "nbformat": 4,
 "nbformat_minor": 5
}
