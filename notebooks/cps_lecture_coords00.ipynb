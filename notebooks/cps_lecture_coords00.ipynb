{
 "cells": [
  {
   "cell_type": "markdown",
   "id": "8b64bfbf",
   "metadata": {},
   "source": [
    "# 3次元座標系"
   ]
  },
  {
   "cell_type": "code",
   "execution_count": 1,
   "id": "b04cfac8-c8cd-40b7-8064-991768de35ee",
   "metadata": {},
   "outputs": [],
   "source": [
    "exec(open('/choreonoid_ws/install/share/irsl_choreonoid/sample/irsl_import.py').read())"
   ]
  },
  {
   "cell_type": "markdown",
   "id": "ba187e6a",
   "metadata": {},
   "source": [
    "## 3次元位置\n",
    "`numpy.array([x,y,z])` として3次元のベクトルを作ります。\n",
    "\n",
    "`from numpy import array as npa` となっているので `npa` と書けます。"
   ]
  },
  {
   "cell_type": "code",
   "execution_count": 2,
   "id": "e865b04b-6747-4509-863b-6a78d03081ae",
   "metadata": {},
   "outputs": [],
   "source": [
    "pos = npa([1, 2, 3])"
   ]
  },
  {
   "cell_type": "code",
   "execution_count": 3,
   "id": "24f5e09d-de44-4bc8-a12e-15c7e58413ec",
   "metadata": {},
   "outputs": [
    {
     "data": {
      "text/plain": [
       "array([1, 2, 3])"
      ]
     },
     "execution_count": 3,
     "metadata": {},
     "output_type": "execute_result"
    }
   ],
   "source": [
    "pos"
   ]
  },
  {
   "cell_type": "code",
   "execution_count": 4,
   "id": "ae4e9ea8",
   "metadata": {},
   "outputs": [],
   "source": [
    "v0 = npa([1, 1, 0])\n",
    "v1 = npa([2, 2, -2])"
   ]
  },
  {
   "cell_type": "code",
   "execution_count": 6,
   "id": "75102ecc",
   "metadata": {},
   "outputs": [
    {
     "data": {
      "text/plain": [
       "array([ 3,  3, -2])"
      ]
     },
     "execution_count": 6,
     "metadata": {},
     "output_type": "execute_result"
    }
   ],
   "source": [
    "v0 + v1"
   ]
  },
  {
   "cell_type": "code",
   "execution_count": 7,
   "id": "410b75ef",
   "metadata": {},
   "outputs": [
    {
     "data": {
      "text/plain": [
       "array([3, 3, 0])"
      ]
     },
     "execution_count": 7,
     "metadata": {},
     "output_type": "execute_result"
    }
   ],
   "source": [
    "3 * v0"
   ]
  },
  {
   "cell_type": "markdown",
   "id": "16a6dce4",
   "metadata": {},
   "source": [
    "## 3次元の回転\n",
    "3次元の回転は3x3行列で表されます。\n",
    "\n",
    "3要素のリスト３つのリストとして 3x3行列を作ります。"
   ]
  },
  {
   "cell_type": "code",
   "execution_count": 8,
   "id": "538db703-ee7f-4e7f-a629-2f5813f2942d",
   "metadata": {},
   "outputs": [],
   "source": [
    "rot = npa([[1,0,0],[0,1,0],[0,0,1]])"
   ]
  },
  {
   "cell_type": "code",
   "execution_count": 9,
   "id": "9c0714c6-e035-4b5a-9e86-9d6f82a29e31",
   "metadata": {},
   "outputs": [
    {
     "data": {
      "text/plain": [
       "array([[1, 0, 0],\n",
       "       [0, 1, 0],\n",
       "       [0, 0, 1]])"
      ]
     },
     "execution_count": 9,
     "metadata": {},
     "output_type": "execute_result"
    }
   ],
   "source": [
    "rot"
   ]
  },
  {
   "cell_type": "markdown",
   "id": "04bd3bd2",
   "metadata": {},
   "source": [
    "### クオータニオン"
   ]
  },
  {
   "cell_type": "code",
   "execution_count": 10,
   "id": "8d640070-0666-4a1d-8cb2-f5d10f2dc727",
   "metadata": {},
   "outputs": [],
   "source": [
    "q = IC.rotationToQuaternion(rot)"
   ]
  },
  {
   "cell_type": "code",
   "execution_count": 11,
   "id": "0ae25dc2-089a-4a62-8fc8-c988f774ee84",
   "metadata": {},
   "outputs": [
    {
     "data": {
      "text/plain": [
       "array([0., 0., 0., 1.])"
      ]
     },
     "execution_count": 11,
     "metadata": {},
     "output_type": "execute_result"
    }
   ],
   "source": [
    "q"
   ]
  },
  {
   "cell_type": "markdown",
   "id": "8f3c3b28",
   "metadata": {},
   "source": [
    "### AngleAxis"
   ]
  },
  {
   "cell_type": "code",
   "execution_count": 12,
   "id": "a80d7a2f-e90b-42dd-9ca6-7dfa13f70327",
   "metadata": {},
   "outputs": [],
   "source": [
    "arot = IC.angleAxisNormalized(PI/3, npa([1, 0, 0]))"
   ]
  },
  {
   "cell_type": "code",
   "execution_count": 13,
   "id": "57bc11b5-2c60-4b90-81db-8197470a3dec",
   "metadata": {},
   "outputs": [
    {
     "data": {
      "text/plain": [
       "array([[ 1.       ,  0.       ,  0.       ],\n",
       "       [ 0.       ,  0.5      , -0.8660254],\n",
       "       [ 0.       ,  0.8660254,  0.5      ]])"
      ]
     },
     "execution_count": 13,
     "metadata": {},
     "output_type": "execute_result"
    }
   ],
   "source": [
    "arot"
   ]
  },
  {
   "cell_type": "markdown",
   "id": "3e7a8e65",
   "metadata": {},
   "source": [
    "## 3次元の座標系\n",
    "以下の資料を参照してください。\n",
    "\n",
    "[3次元座標系の説明](https://irsl-tut.github.io/irsl_documents/ja/coordinates.html)\n",
    "\n",
    "[pythonでのcoordinatesの使い方](https://irsl-tut.github.io/irsl_documents/ja/module_cnoid_irslcoords.html#class-cnoid-irslcoords-coordinates)"
   ]
  },
  {
   "cell_type": "markdown",
   "id": "2356c430",
   "metadata": {},
   "source": [
    "### 座標系の生成"
   ]
  },
  {
   "cell_type": "code",
   "execution_count": 14,
   "id": "fc64c67a-5032-455c-87e0-b5430fd7c3e1",
   "metadata": {},
   "outputs": [],
   "source": [
    "cds = coordinates(pos, rot)"
   ]
  },
  {
   "cell_type": "code",
   "execution_count": 15,
   "id": "1afec126-370c-4706-a2c1-d61f8273452d",
   "metadata": {},
   "outputs": [
    {
     "data": {
      "text/plain": [
       "<coordinates[0x563c7272e340] 1 2 3 / 0 0 0 1 >"
      ]
     },
     "execution_count": 15,
     "metadata": {},
     "output_type": "execute_result"
    }
   ],
   "source": [
    "cds"
   ]
  },
  {
   "cell_type": "code",
   "execution_count": 16,
   "id": "87ded49b-0d3e-43ef-8259-0cd197208aba",
   "metadata": {},
   "outputs": [],
   "source": [
    "cds.rot = arot"
   ]
  },
  {
   "cell_type": "code",
   "execution_count": 17,
   "id": "d82fff12-4544-4595-898a-817efdc8d402",
   "metadata": {},
   "outputs": [
    {
     "data": {
      "text/plain": [
       "<coordinates[0x563c7272e340] 1 2 3 / 0.5 0 0 0.866025 >"
      ]
     },
     "execution_count": 17,
     "metadata": {},
     "output_type": "execute_result"
    }
   ],
   "source": [
    "cds"
   ]
  },
  {
   "cell_type": "markdown",
   "id": "beb337cc",
   "metadata": {},
   "source": [
    "### 座標系の移動、回転"
   ]
  },
  {
   "cell_type": "code",
   "execution_count": 18,
   "id": "bc35cdfc-bcd3-4e62-a8bd-f9f85adc6f2a",
   "metadata": {},
   "outputs": [],
   "source": [
    "cds2 = coordinates()"
   ]
  },
  {
   "cell_type": "code",
   "execution_count": 19,
   "id": "72a0dae0",
   "metadata": {},
   "outputs": [
    {
     "data": {
      "text/plain": [
       "<coordinates[0x563c71e0ab50] 0 1 0 / 0 0 0 1 >"
      ]
     },
     "execution_count": 19,
     "metadata": {},
     "output_type": "execute_result"
    }
   ],
   "source": [
    "cds2.translate(npa([0, 1, 0]))"
   ]
  },
  {
   "cell_type": "code",
   "execution_count": 20,
   "id": "b0e208d9-8f14-4026-a081-ab125e3f2d64",
   "metadata": {},
   "outputs": [
    {
     "data": {
      "text/plain": [
       "<coordinates[0x563c71e0ab50] 0 1 0 / 0.5 0 0 0.866025 >"
      ]
     },
     "execution_count": 20,
     "metadata": {},
     "output_type": "execute_result"
    }
   ],
   "source": [
    "cds2.rotate(PI/3, npa([1, 0, 0]))"
   ]
  },
  {
   "cell_type": "markdown",
   "id": "b007821c",
   "metadata": {},
   "source": [
    "### 座標系の表示"
   ]
  },
  {
   "cell_type": "markdown",
   "id": "86ae2a50",
   "metadata": {},
   "source": [
    "#### 表示用のオブジェクト\n",
    "DrawCoordsを使う。\n",
    "\n",
    "`from irsl_choreonoid.draw_coords import DrawCoordsListWrapped as DrawCoords` となっている。"
   ]
  },
  {
   "cell_type": "code",
   "execution_count": 21,
   "id": "110ee708-1f05-4648-863a-9e660d3de35a",
   "metadata": {},
   "outputs": [],
   "source": [
    "dc = DrawCoords(length=0.5, width=5)"
   ]
  },
  {
   "cell_type": "code",
   "execution_count": 22,
   "id": "0c284425-2e06-46c5-a2ef-e26075abb677",
   "metadata": {},
   "outputs": [],
   "source": [
    "org = coordinates()"
   ]
  },
  {
   "cell_type": "markdown",
   "id": "a3927f15",
   "metadata": {},
   "source": [
    "#### addCoords"
   ]
  },
  {
   "cell_type": "code",
   "execution_count": 23,
   "id": "f365950c-6e5d-4f8e-9ca8-f1aa419758f7",
   "metadata": {},
   "outputs": [
    {
     "data": {
      "text/plain": [
       "1"
      ]
     },
     "execution_count": 23,
     "metadata": {},
     "output_type": "execute_result"
    }
   ],
   "source": [
    "dc.addCoords(org)"
   ]
  },
  {
   "cell_type": "code",
   "execution_count": 24,
   "id": "70a7dc59-d457-4647-b154-b5e4cd886dfc",
   "metadata": {},
   "outputs": [
    {
     "data": {
      "text/plain": [
       "2"
      ]
     },
     "execution_count": 24,
     "metadata": {},
     "output_type": "execute_result"
    }
   ],
   "source": [
    "dc.addCoords(cds2)"
   ]
  },
  {
   "cell_type": "markdown",
   "id": "fb2452e4",
   "metadata": {},
   "source": [
    "#### 画面のファイル化\n",
    "`%display` とすると、表示画面がnotebookにダウンロードできます。\n",
    "\n",
    "これはpythonのコマンドではありません。\n",
    "\n",
    "本講義のchoreonoidを使ったjupyterのみで使えるコマンドです。"
   ]
  },
  {
   "cell_type": "code",
   "execution_count": 25,
   "id": "af4ecea3-b86d-47bc-b970-c42c20871fae",
   "metadata": {},
   "outputs": [
    {
     "data": {
      "image/png": "[encoded data removed]"
     },
     "execution_count": 25,
     "metadata": {},
     "output_type": "execute_result"
    }
   ],
   "source": [
    "%display"
   ]
  },
  {
   "cell_type": "markdown",
   "id": "1a7f5b85",
   "metadata": {},
   "source": [
    "#### 座標系の表示を消す"
   ]
  },
  {
   "cell_type": "code",
   "execution_count": 26,
   "id": "957a4071-b5eb-4efa-bc52-e7a7327ad974",
   "metadata": {},
   "outputs": [],
   "source": [
    "dc.reset()"
   ]
  },
  {
   "cell_type": "code",
   "execution_count": 27,
   "id": "569d9527",
   "metadata": {},
   "outputs": [
    {
     "data": {
      "image/png": "[encoded data removed]"
     },
     "execution_count": 27,
     "metadata": {},
     "output_type": "execute_result"
    }
   ],
   "source": [
    "%display"
   ]
  },
  {
   "cell_type": "markdown",
   "id": "f7139f35",
   "metadata": {},
   "source": [
    "#### 座標系の表示の移動\n",
    "dc を、translate, rotate, transform, newcoords のメソッドで位置を変更すると、表示座標系の基準を移動させることができる。"
   ]
  },
  {
   "cell_type": "code",
   "execution_count": 28,
   "id": "cfad5ebd-5ab9-4d89-8847-c76576675ac7",
   "metadata": {},
   "outputs": [
    {
     "data": {
      "text/plain": [
       "<coordinates[0x563c71e0ab50] 0 0.816987 0.683013 / 0.5 0 0 0.866025 >"
      ]
     },
     "execution_count": 28,
     "metadata": {},
     "output_type": "execute_result"
    }
   ],
   "source": [
    "cds2.translate(npa([0, 0.5, 0.5]))"
   ]
  },
  {
   "cell_type": "code",
   "execution_count": 29,
   "id": "663c9634-76dc-41a3-af6b-865ad37eeb2c",
   "metadata": {},
   "outputs": [
    {
     "data": {
      "text/plain": [
       "1"
      ]
     },
     "execution_count": 29,
     "metadata": {},
     "output_type": "execute_result"
    }
   ],
   "source": [
    "dc.addCoords(cds2)"
   ]
  },
  {
   "cell_type": "code",
   "execution_count": 30,
   "id": "130a2388-232c-4488-8cb4-bfdf513666d8",
   "metadata": {},
   "outputs": [
    {
     "data": {
      "image/png": "[encoded data removed]"
     },
     "execution_count": 30,
     "metadata": {},
     "output_type": "execute_result"
    }
   ],
   "source": [
    "%display"
   ]
  },
  {
   "cell_type": "code",
   "execution_count": 31,
   "id": "4355cf81",
   "metadata": {},
   "outputs": [
    {
     "data": {
      "text/plain": [
       "Wrap <class 'irsl_choreonoid.draw_coords.DrawCoordsListWrapped'> : <coordinates[0x563c70cf22e0] 0 0 0.6 / 0 0 0 1 >"
      ]
     },
     "execution_count": 31,
     "metadata": {},
     "output_type": "execute_result"
    }
   ],
   "source": [
    "dc.translate(npa([0, 0, 0.6]))"
   ]
  },
  {
   "cell_type": "code",
   "execution_count": 32,
   "id": "d2d5a13d",
   "metadata": {},
   "outputs": [
    {
     "data": {
      "image/png": "[encoded data removed]"
     },
     "execution_count": 32,
     "metadata": {},
     "output_type": "execute_result"
    }
   ],
   "source": [
    "%display"
   ]
  },
  {
   "cell_type": "code",
   "execution_count": null,
   "id": "0e80097c-f279-4fac-9512-f3966e5bfa65",
   "metadata": {},
   "outputs": [],
   "source": []
  }
 ],
 "metadata": {
  "kernelspec": {
   "display_name": "Robot Programming",
   "language": "python",
   "name": "roboprog"
  },
  "language_info": {
   "codemirror_mode": "",
   "file_extension": ".py",
   "mimetype": "text/x-python",
   "name": "python",
   "nbconvert_exporter": "",
   "pygments_lexer": "",
   "version": "3.7"
  }
 },
 "nbformat": 4,
 "nbformat_minor": 5
}
