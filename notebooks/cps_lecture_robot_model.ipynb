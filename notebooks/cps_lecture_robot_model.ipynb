{
 "cells": [
  {
   "cell_type": "markdown",
   "id": "7e63c11a",
   "metadata": {},
   "source": [
    "# ロボットモデルの使い方"
   ]
  },
  {
   "cell_type": "code",
   "execution_count": 1,
   "id": "ef1202ec-6a72-40e8-b65a-c09d4468e221",
   "metadata": {},
   "outputs": [],
   "source": [
    "exec(open('/choreonoid_ws/install/share/irsl_choreonoid/sample/irsl_import.py').read())"
   ]
  },
  {
   "cell_type": "markdown",
   "id": "24492982",
   "metadata": {},
   "source": [
    "## ロボットモデルのロード"
   ]
  },
  {
   "cell_type": "code",
   "execution_count": 2,
   "id": "b93d734b-3ff3-4872-b132-7c0c037ab4d0",
   "metadata": {},
   "outputs": [],
   "source": [
    "fname = iu.parseURL('choreonoid://share/model/HRP4C/HRP4C.body')\n",
    "if iu.isInChoreonoid():\n",
    "    rb = ib.loadRobotItem(fname, world=False) ## in choreonoid GUI\n",
    "else:\n",
    "    rb = iu.loadRobot(fname) ## without GUI"
   ]
  },
  {
   "cell_type": "markdown",
   "id": "26d80227",
   "metadata": {},
   "source": [
    "## Link名とJoint名"
   ]
  },
  {
   "cell_type": "code",
   "execution_count": 3,
   "id": "abaa8def-8655-4dea-936c-fdfa3bbf0dab",
   "metadata": {},
   "outputs": [
    {
     "data": {
      "text/plain": [
       "link 0: WAIST\n",
       "link 1: L_HIP_Y\n",
       "link 2: L_HIP_R\n",
       "link 3: L_HIP_P\n",
       "link 4: L_KNEE_P\n",
       "link 5: L_ANKLE_P\n",
       "link 6: L_ANKLE_R\n",
       "link 7: L_TOE_P\n",
       "link 8: R_HIP_Y\n",
       "link 9: R_HIP_R\n",
       "link 10: R_HIP_P\n",
       "link 11: R_KNEE_P\n",
       "link 12: R_ANKLE_P\n",
       "link 13: R_ANKLE_R\n",
       "link 14: R_TOE_P\n",
       "link 15: CHEST_P\n",
       "link 16: CHEST_R\n",
       "link 17: CHEST_Y\n",
       "link 18: NECK_Y\n",
       "link 19: NECK_R\n",
       "link 20: NECK_P\n",
       "link 21: L_SHOULDER_P\n",
       "link 22: L_SHOULDER_R\n",
       "link 23: L_SHOULDER_Y\n",
       "link 24: L_ELBOW_P\n",
       "link 25: L_WRIST_Y\n",
       "link 26: L_WRIST_R\n",
       "link 27: R_SHOULDER_P\n",
       "link 28: R_SHOULDER_R\n",
       "link 29: R_SHOULDER_Y\n",
       "link 30: R_ELBOW_P\n",
       "link 31: R_WRIST_Y\n",
       "link 32: R_WRIST_R\n",
       "joint 0: L_HIP_Y\n",
       "joint 1: L_HIP_R\n",
       "joint 2: L_HIP_P\n",
       "joint 3: L_KNEE_P\n",
       "joint 4: L_ANKLE_P\n",
       "joint 5: L_ANKLE_R\n",
       "joint 6: L_TOE_P\n",
       "joint 7: R_HIP_Y\n",
       "joint 8: R_HIP_R\n",
       "joint 9: R_HIP_P\n",
       "joint 10: R_KNEE_P\n",
       "joint 11: R_ANKLE_P\n",
       "joint 12: R_ANKLE_R\n",
       "joint 13: R_TOE_P\n",
       "joint 14: CHEST_P\n",
       "joint 15: CHEST_R\n",
       "joint 16: CHEST_Y\n",
       "joint 17: NECK_Y\n",
       "joint 18: NECK_R\n",
       "joint 19: NECK_P\n",
       "joint 20: L_SHOULDER_P\n",
       "joint 21: L_SHOULDER_R\n",
       "joint 22: L_SHOULDER_Y\n",
       "joint 23: L_ELBOW_P\n",
       "joint 24: L_WRIST_Y\n",
       "joint 25: L_WRIST_R\n",
       "joint 26: R_SHOULDER_P\n",
       "joint 27: R_SHOULDER_R\n",
       "joint 28: R_SHOULDER_Y\n",
       "joint 29: R_ELBOW_P\n",
       "joint 30: R_WRIST_Y\n",
       "joint 31: R_WRIST_R"
      ]
     },
     "execution_count": 3,
     "metadata": {},
     "output_type": "execute_result"
    }
   ],
   "source": [
    "if type(rb) is Body:\n",
    "    for idx, lk in enumerate(rb.links):\n",
    "        print('link {}: {}'.format(idx, lk.name))\n",
    "    for idx, j in enumerate(rb.joints):\n",
    "        print('joint {}: {}'.format(idx, j.jointName))\n",
    "else:\n",
    "    for idx, lk in enumerate(rb.body.links):\n",
    "        print('link {}: {}'.format(idx, lk.name))\n",
    "    for idx, j in enumerate(rb.body.joints):\n",
    "        print('joint {}: {}'.format(idx, j.jointName))"
   ]
  },
  {
   "cell_type": "markdown",
   "id": "974e975c",
   "metadata": {},
   "source": [
    "## IRSLのRobotModelクラスの使い方"
   ]
  },
  {
   "cell_type": "markdown",
   "id": "904b37fe",
   "metadata": {},
   "source": [
    "### オブジェクトを作る"
   ]
  },
  {
   "cell_type": "code",
   "execution_count": 4,
   "id": "c31b11ec-a5fa-495a-b87c-f7daa4f2cb10",
   "metadata": {},
   "outputs": [
    {
     "data": {
      "text/plain": [
       "<coordinates[0x562d2b743410] 0 0 0.784 / 0 0 0 1 >"
      ]
     },
     "execution_count": 4,
     "metadata": {},
     "output_type": "execute_result"
    }
   ],
   "source": [
    "robot = RobotModel(rb)\n",
    "robot.rootCoords(coordinates(robot.robot.rootLink.T))## HOT FIX これはいずれ必要なくなります"
   ]
  },
  {
   "cell_type": "markdown",
   "id": "fd18f179",
   "metadata": {},
   "source": [
    "### jointのリスト"
   ]
  },
  {
   "cell_type": "code",
   "execution_count": 5,
   "id": "af843540-37ae-40af-8e78-ffeedadf6059",
   "metadata": {},
   "outputs": [
    {
     "data": {
      "text/plain": [
       "[<cnoid.Body.Link named 'L_HIP_Y'>, <cnoid.Body.Link named 'L_HIP_R'>, <cnoid.Body.Link named 'L_HIP_P'>, <cnoid.Body.Link named 'L_KNEE_P'>, <cnoid.Body.Link named 'L_ANKLE_P'>, <cnoid.Body.Link named 'L_ANKLE_R'>, <cnoid.Body.Link named 'L_TOE_P'>, <cnoid.Body.Link named 'R_HIP_Y'>, <cnoid.Body.Link named 'R_HIP_R'>, <cnoid.Body.Link named 'R_HIP_P'>, <cnoid.Body.Link named 'R_KNEE_P'>, <cnoid.Body.Link named 'R_ANKLE_P'>, <cnoid.Body.Link named 'R_ANKLE_R'>, <cnoid.Body.Link named 'R_TOE_P'>, <cnoid.Body.Link named 'CHEST_P'>, <cnoid.Body.Link named 'CHEST_R'>, <cnoid.Body.Link named 'CHEST_Y'>, <cnoid.Body.Link named 'NECK_Y'>, <cnoid.Body.Link named 'NECK_R'>, <cnoid.Body.Link named 'NECK_P'>, <cnoid.Body.Link named 'L_SHOULDER_P'>, <cnoid.Body.Link named 'L_SHOULDER_R'>, <cnoid.Body.Link named 'L_SHOULDER_Y'>, <cnoid.Body.Link named 'L_ELBOW_P'>, <cnoid.Body.Link named 'L_WRIST_Y'>, <cnoid.Body.Link named 'L_WRIST_R'>, <cnoid.Body.Link named 'R_SHOULDER_P'>, <cnoid.Body.Link named 'R_SHOULDER_R'>, <cnoid.Body.Link named 'R_SHOULDER_Y'>, <cnoid.Body.Link named 'R_ELBOW_P'>, <cnoid.Body.Link named 'R_WRIST_Y'>, <cnoid.Body.Link named 'R_WRIST_R'>]"
      ]
     },
     "execution_count": 5,
     "metadata": {},
     "output_type": "execute_result"
    }
   ],
   "source": [
    "robot.jointList"
   ]
  },
  {
   "cell_type": "markdown",
   "id": "ca46bcd8",
   "metadata": {},
   "source": [
    "### angle-vector\n",
    "全身の関節角度のベクトル"
   ]
  },
  {
   "cell_type": "code",
   "execution_count": 6,
   "id": "5694d3b3-fb7d-4e21-9324-e0bf02322cfa",
   "metadata": {},
   "outputs": [
    {
     "data": {
      "text/plain": [
       "array([0., 0., 0., 0., 0., 0., 0., 0., 0., 0., 0., 0., 0., 0., 0., 0., 0.,\n",
       "       0., 0., 0., 0., 0., 0., 0., 0., 0., 0., 0., 0., 0., 0., 0.])"
      ]
     },
     "execution_count": 6,
     "metadata": {},
     "output_type": "execute_result"
    }
   ],
   "source": [
    "vec = robot.angleVector()\n",
    "vec"
   ]
  },
  {
   "cell_type": "markdown",
   "id": "60af3636",
   "metadata": {},
   "source": [
    "angle-vectorをセットする"
   ]
  },
  {
   "cell_type": "code",
   "execution_count": 7,
   "id": "b3c14129-97ad-4567-bf38-c507bc4149cd",
   "metadata": {},
   "outputs": [],
   "source": [
    "vec[2] = -0.3\n",
    "robot.angleVector(vec)"
   ]
  },
  {
   "cell_type": "markdown",
   "id": "e690da56",
   "metadata": {},
   "source": [
    "### 関節への名前アクセス"
   ]
  },
  {
   "cell_type": "code",
   "execution_count": 8,
   "id": "0055bcfb-5e57-4528-adc7-bbd601ba6866",
   "metadata": {},
   "outputs": [
    {
     "data": {
      "text/plain": [
       "-0.3"
      ]
     },
     "execution_count": 8,
     "metadata": {},
     "output_type": "execute_result"
    }
   ],
   "source": [
    "robot.jointAngle('L_HIP_P')"
   ]
  },
  {
   "cell_type": "code",
   "execution_count": 9,
   "id": "4ce057dd-e546-4049-b986-8919b20d0ab8",
   "metadata": {},
   "outputs": [
    {
     "data": {
      "text/plain": [
       "0.0"
      ]
     },
     "execution_count": 9,
     "metadata": {},
     "output_type": "execute_result"
    }
   ],
   "source": [
    "robot.jointAngle('L_HIP_P', 0.0)"
   ]
  },
  {
   "cell_type": "markdown",
   "id": "92cdb610",
   "metadata": {},
   "source": [
    "### 関節への辞書型でのアクセス"
   ]
  },
  {
   "cell_type": "code",
   "execution_count": 10,
   "id": "4fe94100-f713-4953-b9e8-d099307a78c6",
   "metadata": {},
   "outputs": [
    {
     "data": {
      "text/plain": [
       "True"
      ]
     },
     "execution_count": 10,
     "metadata": {},
     "output_type": "execute_result"
    }
   ],
   "source": [
    "robot.setAngleMap({'R_HIP_P': -0.8, 'R_KNEE_P': 1.6})"
   ]
  },
  {
   "cell_type": "markdown",
   "id": "94a86a1f",
   "metadata": {},
   "source": [
    "### ロボットの座標系\n",
    "ロボットの座標系は上部をZ軸とし、前方をX軸とする。\n",
    "\n",
    "ワールド座標系は、Z軸方向が鉛直上向きとする。"
   ]
  },
  {
   "cell_type": "code",
   "execution_count": 11,
   "id": "f082c6d5-d13f-4460-8b30-05a5ad6d386e",
   "metadata": {},
   "outputs": [
    {
     "data": {
      "text/plain": [
       "<coordinates[0x562d2b743410] 0 0 0.784 / 0 0 0 1 >"
      ]
     },
     "execution_count": 11,
     "metadata": {},
     "output_type": "execute_result"
    }
   ],
   "source": [
    "robot.rootCoords()"
   ]
  },
  {
   "cell_type": "code",
   "execution_count": 12,
   "id": "5d8001a5-a58b-4701-abd8-de931f157026",
   "metadata": {},
   "outputs": [
    {
     "data": {
      "text/plain": [
       "<coordinates[0x562d2b76b390] 0 0 1 / 0 0 0 1 >"
      ]
     },
     "execution_count": 12,
     "metadata": {},
     "output_type": "execute_result"
    }
   ],
   "source": [
    "cds = coordinates(npa([0, 0, 1.0]))\n",
    "robot.rootCoords(cds)"
   ]
  },
  {
   "cell_type": "markdown",
   "id": "acf62bb4",
   "metadata": {},
   "source": [
    "### 四肢(limb), 効果器(EndEffector), 関節グループ\n",
    "関節のまとまりで、先端にエンドエフェクターを持つものを定義する。\n",
    "\n",
    "これを便宜上、四肢(limb)と名づける。\n",
    "\n",
    "名前は自由だが、arm, rarm, larm, rleg, lleg, neck, torso はアクセサが準備されている。"
   ]
  },
  {
   "cell_type": "code",
   "execution_count": 13,
   "id": "c82a798e-ed26-49a8-8ea7-53605732b2a5",
   "metadata": {},
   "outputs": [],
   "source": [
    "robot.registerEndEffector('larm', ## end-effector\n",
    "                          'L_WRIST_R', ## tip-link\n",
    "                          joint_tuples = (('L_SHOULDER_P', 'shoulder-p'),\n",
    "                                          ('L_SHOULDER_R', 'shoulder-r'),\n",
    "                                          ('L_SHOULDER_Y', 'shoulder-y'),\n",
    "                                          ('L_ELBOW_P', 'elbow-p'),\n",
    "                                          ('L_WRIST_Y', 'wrist-y'),\n",
    "                                          ('L_WRIST_R', 'wrist-r'),\n",
    "                                          )\n",
    "                          )\n",
    "robot.registerEndEffector('rarm', ## end-effector\n",
    "                          'R_WRIST_R', ## tip-link\n",
    "                          joint_tuples = (('R_SHOULDER_P', 'shoulder-p'),\n",
    "                                          ('R_SHOULDER_R', 'shoulder-r'),\n",
    "                                          ('R_SHOULDER_Y', 'shoulder-y'),\n",
    "                                          ('R_ELBOW_P', 'elbow-p'),\n",
    "                                          ('R_WRIST_Y', 'wrist-y'),\n",
    "                                          ('R_WRIST_R', 'wrist-r'),\n",
    "                                          )\n",
    "                          )"
   ]
  },
  {
   "cell_type": "code",
   "execution_count": 14,
   "id": "e308bb1d-6c50-4ade-9046-3d800dbeba96",
   "metadata": {},
   "outputs": [
    {
     "data": {
      "text/plain": [
       "<irsl_choreonoid.robot_util.RobotModelWrapped.EndEffector object at 0x7f1fbe4d9f70>"
      ]
     },
     "execution_count": 14,
     "metadata": {},
     "output_type": "execute_result"
    }
   ],
   "source": [
    "robot.larm"
   ]
  },
  {
   "cell_type": "markdown",
   "id": "f36f1c47",
   "metadata": {},
   "source": [
    "#### limbのangle-vector"
   ]
  },
  {
   "cell_type": "code",
   "execution_count": 15,
   "id": "f9db7a58-9fd0-4b97-86fb-199d23939e8b",
   "metadata": {},
   "outputs": [
    {
     "data": {
      "text/plain": [
       "array([0., 0., 0., 0., 0., 0.])"
      ]
     },
     "execution_count": 15,
     "metadata": {},
     "output_type": "execute_result"
    }
   ],
   "source": [
    "lvec = robot.larm.angleVector()\n",
    "lvec"
   ]
  },
  {
   "cell_type": "code",
   "execution_count": 17,
   "id": "60a15e72-02b6-4479-b4b1-0b848a3e2896",
   "metadata": {},
   "outputs": [
    {
     "data": {
      "text/plain": [
       "array([-0.4,  0. ,  0. ,  0. ,  0. ,  0. ])"
      ]
     },
     "execution_count": 17,
     "metadata": {},
     "output_type": "execute_result"
    }
   ],
   "source": [
    "lvec[0] = -0.4\n",
    "robot.larm.angleVector(lvec)"
   ]
  },
  {
   "cell_type": "markdown",
   "id": "1bc23056",
   "metadata": {},
   "source": [
    "#### limbの名前アクセス\n",
    "ニックネームを付けることができる"
   ]
  },
  {
   "cell_type": "code",
   "execution_count": 18,
   "id": "29f68b02-da96-4a7a-9bd1-a2c9c4f2ae59",
   "metadata": {},
   "outputs": [
    {
     "data": {
      "text/plain": [
       "-0.4"
      ]
     },
     "execution_count": 18,
     "metadata": {},
     "output_type": "execute_result"
    }
   ],
   "source": [
    "robot.larm.jointAngle('shoulder-p')"
   ]
  },
  {
   "cell_type": "code",
   "execution_count": 19,
   "id": "c38ff4f2-a8bf-4746-8aac-1b6bace35865",
   "metadata": {},
   "outputs": [
    {
     "data": {
      "text/plain": [
       "True"
      ]
     },
     "execution_count": 19,
     "metadata": {},
     "output_type": "execute_result"
    }
   ],
   "source": [
    "robot.larm.setAngleMap({'shoulder-p': 0.4, 'elbow-p': -0.8})"
   ]
  },
  {
   "cell_type": "code",
   "execution_count": 21,
   "id": "ef209cc8-cf30-4701-a935-2487146ca7fa",
   "metadata": {},
   "outputs": [
    {
     "data": {
      "text/plain": [
       "True"
      ]
     },
     "execution_count": 21,
     "metadata": {},
     "output_type": "execute_result"
    }
   ],
   "source": [
    "robot.rarm.setAngleMap({'shoulder-p': 0.4, 'elbow-p': -0.8})"
   ]
  },
  {
   "cell_type": "markdown",
   "id": "8306d442",
   "metadata": {},
   "source": [
    "#### 手先効果器(EndEffector)"
   ]
  },
  {
   "cell_type": "code",
   "execution_count": 22,
   "id": "86494f29-68e0-4cc7-9ec2-b5a719b5798f",
   "metadata": {},
   "outputs": [
    {
     "data": {
      "text/plain": [
       "<coordinates[0x562d2ca2efe0] -0.0548972 0.198627 1.01957 / 0.0854184 -0.197913 0.0173152 0.976337 >"
      ]
     },
     "execution_count": 22,
     "metadata": {},
     "output_type": "execute_result"
    }
   ],
   "source": [
    "robot.larm.endEffector"
   ]
  },
  {
   "cell_type": "code",
   "execution_count": 25,
   "id": "fe001475-8f7b-47fb-b25f-e831a08e1b95",
   "metadata": {},
   "outputs": [],
   "source": [
    "dc = DrawCoords(width=5)"
   ]
  },
  {
   "cell_type": "code",
   "execution_count": 26,
   "id": "7698c179-09b9-4e5b-a41a-36d33d256878",
   "metadata": {},
   "outputs": [
    {
     "data": {
      "text/plain": [
       "1"
      ]
     },
     "execution_count": 26,
     "metadata": {},
     "output_type": "execute_result"
    }
   ],
   "source": [
    "dc.addCoords(robot.larm.endEffector)"
   ]
  },
  {
   "cell_type": "markdown",
   "id": "f4cbeec1",
   "metadata": {},
   "source": [
    "#### 逆運動学"
   ]
  },
  {
   "cell_type": "code",
   "execution_count": 27,
   "id": "72c71728-1cfe-4218-bf1e-176d392cd6c3",
   "metadata": {},
   "outputs": [],
   "source": [
    "tgt = robot.larm.endEffector"
   ]
  },
  {
   "cell_type": "code",
   "execution_count": 28,
   "id": "4ba4366b-bbe2-4518-b5a2-da623467a027",
   "metadata": {},
   "outputs": [
    {
     "data": {
      "text/plain": [
       "(True, 0)"
      ]
     },
     "execution_count": 28,
     "metadata": {},
     "output_type": "execute_result"
    }
   ],
   "source": [
    "robot.larm.inverseKinematics(tgt, constraint='xyz')"
   ]
  },
  {
   "cell_type": "markdown",
   "id": "dcec16a3",
   "metadata": {},
   "source": [
    "ターゲットを動かしてみる"
   ]
  },
  {
   "cell_type": "code",
   "execution_count": 29,
   "id": "8246377d-7edc-42ec-a982-e9f6871140cd",
   "metadata": {},
   "outputs": [
    {
     "data": {
      "text/plain": [
       "<coordinates[0x562d285f11d0] -0.0548972 0.198627 1.21957 / 0.0854184 -0.197913 0.0173152 0.976337 >"
      ]
     },
     "execution_count": 29,
     "metadata": {},
     "output_type": "execute_result"
    }
   ],
   "source": [
    "tgt.translate(npa([0, 0, 0.2]), coordinates.wrt.world)"
   ]
  },
  {
   "cell_type": "code",
   "execution_count": 30,
   "id": "4ea7a367-df23-40a1-a523-ab75956d9cc8",
   "metadata": {},
   "outputs": [
    {
     "data": {
      "text/plain": [
       "(True, 4)"
      ]
     },
     "execution_count": 30,
     "metadata": {},
     "output_type": "execute_result"
    }
   ],
   "source": [
    "robot.larm.inverseKinematics(tgt, constraint='xyz')"
   ]
  },
  {
   "cell_type": "code",
   "execution_count": 31,
   "id": "224a3701-ed0b-4c1c-8390-2d95fa176a02",
   "metadata": {},
   "outputs": [
    {
     "data": {
      "text/plain": [
       "1"
      ]
     },
     "execution_count": 31,
     "metadata": {},
     "output_type": "execute_result"
    }
   ],
   "source": [
    "dc.reset()\n",
    "dc.addCoords(robot.larm.endEffector)"
   ]
  },
  {
   "cell_type": "markdown",
   "id": "8fc4628d",
   "metadata": {},
   "source": [
    "### 名前付きのポーズの設定"
   ]
  },
  {
   "cell_type": "code",
   "execution_count": 32,
   "id": "a334279f-998f-4cb3-be73-3b76a7486259",
   "metadata": {},
   "outputs": [],
   "source": [
    "robot.registerNamedPose('default',\n",
    "                        [0, 0, 0, 0, 0, 0, 0, ## LLEG\n",
    "                         0, 0, 0, 0, 0, 0, 0, ## RLEG\n",
    "                         0, 0, 0, ## CHEST\n",
    "                         0, 0, 0, ## NECK\n",
    "                         0, 0, 0, 0, 0, 0, ## LARM\n",
    "                         0, 0, 0, 0, 0, 0, ## RARM\n",
    "                         ])"
   ]
  },
  {
   "cell_type": "code",
   "execution_count": 33,
   "id": "cbc4f778-c3c9-4f80-85a3-d9e9c0df5efe",
   "metadata": {},
   "outputs": [],
   "source": [
    "robot.setDefaultPose()"
   ]
  },
  {
   "cell_type": "markdown",
   "id": "923ce445",
   "metadata": {},
   "source": [
    "## ロボットの独自クラスを作る"
   ]
  },
  {
   "cell_type": "code",
   "execution_count": 37,
   "id": "ec51a39a-4dbb-41a0-b088-f001398d778f",
   "metadata": {},
   "outputs": [],
   "source": [
    "class HRP4CModel(RobotModel):\n",
    "    def __init__(self):\n",
    "        fname = iu.parseURL('choreonoid://share/model/HRP4C/HRP4C.body')\n",
    "        if iu.isInChoreonoid():\n",
    "            rb = ib.loadRobotItem(fname, world=False)\n",
    "        else:\n",
    "            rb = iu.loadRobot(fname)\n",
    "        super().__init__(rb)\n",
    "        self.rootCoords(coordinates(self.robot.rootLink.T))## HOT FIX これはいずれ必要なくなります\n",
    "        self.registerEndEffector('larm', ## end-effector\n",
    "                                 'L_WRIST_R', ## tip-link\n",
    "                                 joint_tuples = (('L_SHOULDER_P', 'shoulder-p'),\n",
    "                                                 ('L_SHOULDER_R', 'shoulder-r'),\n",
    "                                                 ('L_SHOULDER_Y', 'shoulder-y'),\n",
    "                                                 ('L_ELBOW_P', 'elbow-p'),\n",
    "                                                 ('L_WRIST_Y', 'wrist-y'),\n",
    "                                                 ('L_WRIST_R', 'wrist-r'),\n",
    "                                                 )\n",
    "                                 )\n",
    "        self.registerEndEffector('rarm', ## end-effector\n",
    "                                 'R_WRIST_R', ## tip-link\n",
    "                                 joint_tuples = (('R_SHOULDER_P', 'shoulder-p'),\n",
    "                                                 ('R_SHOULDER_R', 'shoulder-r'),\n",
    "                                                 ('R_SHOULDER_Y', 'shoulder-y'),\n",
    "                                                 ('R_ELBOW_P', 'elbow-p'),\n",
    "                                                 ('R_WRIST_Y', 'wrist-y'),\n",
    "                                                 ('R_WRIST_R', 'wrist-r'),\n",
    "                                                 )\n",
    "                                 )\n",
    "        self.registerNamedPose('default',\n",
    "                               [0, 0, 0, 0, 0, 0, 0, ## LLEG\n",
    "                                0, 0, 0, 0, 0, 0, 0, ## RLEG\n",
    "                                0, 0, 0, ## CHEST\n",
    "                                0, 0, 0, ## NECK\n",
    "                                0, 0, 0, 0, 0, 0, ## LARM\n",
    "                                0, 0, 0, 0, 0, 0, ## RARM\n",
    "                                ])\n",
    "        self.setDefaultPose()"
   ]
  },
  {
   "cell_type": "markdown",
   "id": "b62118d9",
   "metadata": {},
   "source": [
    "まえに表示したモデルは消しておく"
   ]
  },
  {
   "cell_type": "code",
   "execution_count": 38,
   "id": "babeaffb-030f-48a9-bb52-99f5c51f0880",
   "metadata": {},
   "outputs": [],
   "source": [
    "robot = HRP4CModel()"
   ]
  }
 ],
 "metadata": {
  "kernelspec": {
   "display_name": "Robot Programming",
   "language": "python",
   "name": "roboprog"
  }, 
  "language_info": {
   "codemirror_mode": "",
   "file_extension": ".py",
   "mimetype": "text/x-python",
   "name": "python",
   "nbconvert_exporter": "",
   "pygments_lexer": "",
   "version": "3.7"
  }
 },
 "nbformat": 4,
 "nbformat_minor": 5
}
