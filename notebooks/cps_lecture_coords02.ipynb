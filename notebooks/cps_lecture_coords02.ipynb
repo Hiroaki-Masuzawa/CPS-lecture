{
 "cells": [
  {
   "cell_type": "markdown",
   "id": "005c9853",
   "metadata": {},
   "source": [
    "# 幾何構造を作る"
   ]
  },
  {
   "cell_type": "code",
   "execution_count": 3,
   "id": "b04cfac8-c8cd-40b7-8064-991768de35ee",
   "metadata": {},
   "outputs": [],
   "source": [
    "exec(open('/choreonoid_ws/install/share/irsl_choreonoid/sample/irsl_import.py').read())"
   ]
  },
  {
   "cell_type": "code",
   "execution_count": 4,
   "id": "276e28bb-d839-43d9-946d-56ab50300e10",
   "metadata": {},
   "outputs": [],
   "source": [
    "di = DrawInterface()"
   ]
  },
  {
   "cell_type": "code",
   "execution_count": 5,
   "id": "4bf261a7-7508-4fbd-ad2b-b5a5765e9335",
   "metadata": {},
   "outputs": [],
   "source": [
    "box = mkshapes.makeBox(0.5, 0.5, 0.5, color = [0, 1, 0])\n",
    "di.addPyObject(box)"
   ]
  },
  {
   "cell_type": "code",
   "execution_count": 6,
   "id": "14a2837a-4241-4742-99d3-d09ef9208654",
   "metadata": {},
   "outputs": [],
   "source": [
    "cyl = mkshapes.makeCylinder(0.2, 0.6, color = [0, 0, 1])\n",
    "di.addPyObject(cyl)"
   ]
  },
  {
   "cell_type": "code",
   "execution_count": 7,
   "id": "165dbdff-e5d9-4eab-9918-44194ffab6e8",
   "metadata": {},
   "outputs": [
    {
     "data": {
      "text/plain": [
       "Wrap: <coordinates[0x56068db6b6a0] 0 1 0 / 0 0 0 1 > | <cnoid.Util.SgPosTransform object at 0x7f32999f9130>"
      ]
     },
     "execution_count": 7,
     "metadata": {},
     "output_type": "execute_result"
    }
   ],
   "source": [
    "cyl.translate(npa([0, 1, 0]))"
   ]
  },
  {
   "cell_type": "code",
   "execution_count": 8,
   "id": "947571dd-31f3-4abd-a415-159597e5ee82",
   "metadata": {},
   "outputs": [],
   "source": [
    "sph = mkshapes.makeSphere(0.2, color = [1, 0, 0])\n",
    "di.addPyObject(sph)"
   ]
  },
  {
   "cell_type": "code",
   "execution_count": 9,
   "id": "7cc2e88d-08f8-4409-8229-bc759c1ce686",
   "metadata": {},
   "outputs": [
    {
     "data": {
      "text/plain": [
       "Wrap: <coordinates[0x56068dc3f1d0] 0 0 1 / 0 0 0 1 > | <cnoid.Util.SgPosTransform object at 0x7f32999f9270>"
      ]
     },
     "execution_count": 9,
     "metadata": {},
     "output_type": "execute_result"
    }
   ],
   "source": [
    "sph.translate(npa([0, 0, 1]))"
   ]
  },
  {
   "cell_type": "code",
   "execution_count": 10,
   "id": "d7b9817e-8271-421d-b45a-5f52770d7591",
   "metadata": {},
   "outputs": [],
   "source": [
    "trs = mkshapes.makeTorus(0.3, 0.1, 0, PI, color = [1, 0, 1])\n",
    "di.addPyObject(trs)"
   ]
  },
  {
   "cell_type": "code",
   "execution_count": 11,
   "id": "3d384859-9ba9-4600-8703-84a797414023",
   "metadata": {},
   "outputs": [
    {
     "data": {
      "text/plain": [
       "Wrap: <coordinates[0x56068db10990] 1 0 0 / 0 0 0 1 > | <cnoid.Util.SgPosTransform object at 0x7f32999f9330>"
      ]
     },
     "execution_count": 11,
     "metadata": {},
     "output_type": "execute_result"
    }
   ],
   "source": [
    "trs.translate(npa([1, 0, 0]))"
   ]
  },
  {
   "cell_type": "code",
   "execution_count": 12,
   "id": "18ca0720-66dd-4840-9501-753f643c71c1",
   "metadata": {},
   "outputs": [],
   "source": [
    "cone = mkshapes.makeCone(0.3, 0.6, color = [1, 1, 0])\n",
    "di.addPyObject(cone)"
   ]
  },
  {
   "cell_type": "code",
   "execution_count": 13,
   "id": "be8c97a4-55d8-45d1-a325-4e482f9b23b9",
   "metadata": {},
   "outputs": [
    {
     "data": {
      "text/plain": [
       "Wrap: <coordinates[0x56068da9b470] 0 0 -1 / 0 0 0 1 > | <cnoid.Util.SgPosTransform object at 0x7f32999f93f0>"
      ]
     },
     "execution_count": 13,
     "metadata": {},
     "output_type": "execute_result"
    }
   ],
   "source": [
    "cone.translate(npa([0, 0, -1]))"
   ]
  },
  {
   "cell_type": "code",
   "execution_count": 14,
   "id": "f82fbad2-d562-4c6e-9e24-5890db74a1f0",
   "metadata": {},
   "outputs": [],
   "source": [
    "di.viewAll()"
   ]
  },
  {
   "cell_type": "code",
   "execution_count": 15,
   "id": "adc08eca-9b41-4115-8667-934d1e8c0b05",
   "metadata": {},
   "outputs": [],
   "source": [
    "asw = AssimpSceneWriter()\n",
    "asw.setMessageSinkStdErr()"
   ]
  },
  {
   "cell_type": "code",
   "execution_count": 16,
   "id": "5194ef6a-8c09-4552-bfd3-3edead659b5f",
   "metadata": {},
   "outputs": [],
   "source": [
    "succ = asw.writeScene(\"/userdir/test.obj\", di.SgPosTransform) ## all Object"
   ]
  },
  {
   "cell_type": "code",
   "execution_count": 17,
   "id": "34b764ad-29a3-4b8b-94d2-346b20d937d0",
   "metadata": {},
   "outputs": [],
   "source": [
    "di.clear()"
   ]
  },
  {
   "cell_type": "code",
   "execution_count": 18,
   "id": "d059404a-b82f-405f-8515-418950c8179b",
   "metadata": {},
   "outputs": [],
   "source": [
    "mesh0 = mkshapes.loadMesh('/userdir/test.obj')"
   ]
  },
  {
   "cell_type": "code",
   "execution_count": 19,
   "id": "b1607c4b-5d8f-4db7-b4ba-61e5f9906c3a",
   "metadata": {},
   "outputs": [],
   "source": [
    "di.addPyObject(mesh0)"
   ]
  },
  {
   "cell_type": "code",
   "execution_count": 20,
   "id": "d01d6c1e-f226-44dd-9e2e-f225e9e3dabf",
   "metadata": {},
   "outputs": [
    {
     "data": {
      "text/plain": [
       "Wrap: <coordinates[0x56068dbbfb20] 0 0 0.5 / 0 0 0 1 > | <cnoid.Util.SgPosTransform object at 0x7f329a5636f0>"
      ]
     },
     "execution_count": 20,
     "metadata": {},
     "output_type": "execute_result"
    }
   ],
   "source": [
    "mesh0.translate(npa([0, 0, 0.5]))"
   ]
  },
  {
   "cell_type": "code",
   "execution_count": 21,
   "id": "10232d1a-f24b-4164-8d86-adb3b5a663c5",
   "metadata": {},
   "outputs": [
    {
     "data": {
      "text/plain": [
       "Wrap: <coordinates[0x56068dbbfb20] 0 0 0.5 / -0.258819 0 0 0.965926 > | <cnoid.Util.SgPosTransform object at 0x7f329a5636f0>"
      ]
     },
     "execution_count": 21,
     "metadata": {},
     "output_type": "execute_result"
    }
   ],
   "source": [
    "mesh0.rotate(-PI/6, npa([1, 0, 0]))"
   ]
  },
  {
   "cell_type": "code",
   "execution_count": 22,
   "id": "d58d6059-98f0-4a96-94c5-389171e25d39",
   "metadata": {},
   "outputs": [],
   "source": [
    "di.viewAll()"
   ]
  },
  {
   "cell_type": "code",
   "execution_count": null,
   "id": "9adbb99c-00d3-489a-bbee-91d257c20331",
   "metadata": {},
   "outputs": [],
   "source": []
  }
 ],
 "metadata": {
  "kernelspec": {
   "display_name": "Robot Programming",
   "language": "python",
   "name": "roboprog"
  },
  "language_info": {
   "codemirror_mode": "",
   "file_extension": ".py",
   "mimetype": "text/x-python",
   "name": "python",
   "nbconvert_exporter": "",
   "pygments_lexer": "",
   "version": "3.7"
  }
 },
 "nbformat": 4,
 "nbformat_minor": 5
}
