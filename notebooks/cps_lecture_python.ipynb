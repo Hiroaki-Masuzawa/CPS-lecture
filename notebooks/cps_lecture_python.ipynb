{
 "cells": [
  {
   "cell_type": "markdown",
   "id": "4a5becfb-f03e-4270-8c63-1043c1e9e749",
   "metadata": {},
   "source": [
    "# 数値計算（演算子）"
   ]
  },
  {
   "cell_type": "markdown",
   "id": "0a996e3f-e645-48d7-b711-7f3785736b29",
   "metadata": {},
   "source": [
    "### + (足し算)"
   ]
  },
  {
   "cell_type": "code",
   "execution_count": 1,
   "id": "7dcd3484-a3d3-4f20-8bc1-ee8aeaf84d3e",
   "metadata": {},
   "outputs": [
    {
     "data": {
      "text/plain": [
       "9"
      ]
     },
     "execution_count": 1,
     "metadata": {},
     "output_type": "execute_result"
    }
   ],
   "source": [
    "7+2"
   ]
  },
  {
   "cell_type": "markdown",
   "id": "01913501-0291-49fd-a825-09b3cb01b898",
   "metadata": {},
   "source": [
    "### * (掛け算)"
   ]
  },
  {
   "cell_type": "code",
   "execution_count": 2,
   "id": "cd776fdc-f75d-4cbf-a906-8eeed2ef0ce6",
   "metadata": {},
   "outputs": [
    {
     "data": {
      "text/plain": [
       "14"
      ]
     },
     "execution_count": 2,
     "metadata": {},
     "output_type": "execute_result"
    }
   ],
   "source": [
    "7*2"
   ]
  },
  {
   "cell_type": "markdown",
   "id": "2afe0943-f787-4fec-9238-49aa38ffcd08",
   "metadata": {},
   "source": [
    "### / (割り算)"
   ]
  },
  {
   "cell_type": "code",
   "execution_count": 3,
   "id": "de242e3b-cd70-4560-8678-3b1b2a650fe4",
   "metadata": {},
   "outputs": [
    {
     "data": {
      "text/plain": [
       "3.5"
      ]
     },
     "execution_count": 3,
     "metadata": {},
     "output_type": "execute_result"
    }
   ],
   "source": [
    "7/2"
   ]
  },
  {
   "cell_type": "markdown",
   "id": "331a6915-2a89-4551-a29c-630cb04855f2",
   "metadata": {},
   "source": [
    "### ** (べき乗)"
   ]
  },
  {
   "cell_type": "code",
   "execution_count": 4,
   "id": "5da0df34-73ea-4930-aa8c-f6158193b700",
   "metadata": {},
   "outputs": [
    {
     "data": {
      "text/plain": [
       "49"
      ]
     },
     "execution_count": 4,
     "metadata": {},
     "output_type": "execute_result"
    }
   ],
   "source": [
    "7 ** 2"
   ]
  },
  {
   "cell_type": "markdown",
   "id": "e0e6ade8-4c19-4d55-af05-3b870164b08d",
   "metadata": {},
   "source": [
    "### // (割り算整数)"
   ]
  },
  {
   "cell_type": "code",
   "execution_count": 5,
   "id": "80076e14-2ac1-4e3c-b32b-9b7f3786c5b3",
   "metadata": {},
   "outputs": [
    {
     "data": {
      "text/plain": [
       "3"
      ]
     },
     "execution_count": 5,
     "metadata": {},
     "output_type": "execute_result"
    }
   ],
   "source": [
    "7//2"
   ]
  },
  {
   "cell_type": "markdown",
   "id": "8e1b9e60-bfd4-4172-9d93-819ac596b4a1",
   "metadata": {},
   "source": [
    "### % (剰余)"
   ]
  },
  {
   "cell_type": "code",
   "execution_count": 6,
   "id": "2e959267-231d-40bf-992e-f447bfd9f8a6",
   "metadata": {},
   "outputs": [
    {
     "data": {
      "text/plain": [
       "1"
      ]
     },
     "execution_count": 6,
     "metadata": {},
     "output_type": "execute_result"
    }
   ],
   "source": [
    "7%2"
   ]
  },
  {
   "cell_type": "markdown",
   "id": "d4730b17",
   "metadata": {},
   "source": [
    "### + (足し算)"
   ]
  },
  {
   "cell_type": "code",
   "execution_count": 7,
   "id": "86b22fc6-4327-4d98-a543-103715ab0cb1",
   "metadata": {},
   "outputs": [
    {
     "data": {
      "text/plain": [
       "9"
      ]
     },
     "execution_count": 7,
     "metadata": {},
     "output_type": "execute_result"
    }
   ],
   "source": [
    "7+2"
   ]
  },
  {
   "cell_type": "markdown",
   "id": "79b2bfc2",
   "metadata": {},
   "source": [
    "# 変数"
   ]
  },
  {
   "cell_type": "markdown",
   "id": "14841e97",
   "metadata": {},
   "source": [
    "## 変数への代入"
   ]
  },
  {
   "cell_type": "code",
   "execution_count": 7,
   "id": "85c669c3-5359-4c40-bc38-f4c5da87250b",
   "metadata": {},
   "outputs": [],
   "source": [
    "a = 120.0"
   ]
  },
  {
   "cell_type": "code",
   "execution_count": 8,
   "id": "02ddd51c-62b8-450e-9d2f-d134b1522ab7",
   "metadata": {},
   "outputs": [],
   "source": [
    "b = 240.0"
   ]
  },
  {
   "cell_type": "code",
   "execution_count": 9,
   "id": "416574d7-154b-44b8-b67a-12ca548911d4",
   "metadata": {},
   "outputs": [
    {
     "data": {
      "text/plain": [
       "120.0"
      ]
     },
     "execution_count": 9,
     "metadata": {},
     "output_type": "execute_result"
    }
   ],
   "source": [
    "a"
   ]
  },
  {
   "cell_type": "code",
   "execution_count": 10,
   "id": "5866a7b6-80dc-4812-9d08-87decbad3f15",
   "metadata": {},
   "outputs": [
    {
     "ename": "NameError",
     "evalue": "name 'c' is not defined",
     "output_type": "error",
     "traceback": [
      "\u001b[0;31m---------------------------------------------------------------------------\u001b[0m",
      "\u001b[0;31mNameError\u001b[0m                                 Traceback (most recent call last)",
      "\u001b[0;32m<ipython-input-10-2b66fd261ee5>\u001b[0m in \u001b[0;36m<module>\u001b[0;34m\u001b[0m\n\u001b[0;32m----> 1\u001b[0;31m \u001b[0mc\u001b[0m\u001b[0;34m\u001b[0m\u001b[0;34m\u001b[0m\u001b[0m\n\u001b[0m",
      "\u001b[0;31mNameError\u001b[0m: name 'c' is not defined"
     ]
    }
   ],
   "source": [
    "c"
   ]
  },
  {
   "cell_type": "markdown",
   "id": "e47e9dfe",
   "metadata": {},
   "source": [
    "## 代入文（変数の使い方）"
   ]
  },
  {
   "cell_type": "code",
   "execution_count": 11,
   "id": "c9abcbdd-abaf-4d10-8d5c-0ac20f50795a",
   "metadata": {
    "tags": []
   },
   "outputs": [],
   "source": [
    "c = a + b"
   ]
  },
  {
   "cell_type": "code",
   "execution_count": 12,
   "id": "c3550b08-5767-4caa-8318-ad5be23ab116",
   "metadata": {},
   "outputs": [
    {
     "data": {
      "text/plain": [
       "360.0"
      ]
     },
     "execution_count": 12,
     "metadata": {},
     "output_type": "execute_result"
    }
   ],
   "source": [
    "c"
   ]
  },
  {
   "cell_type": "markdown",
   "id": "10e344e3",
   "metadata": {},
   "source": [
    "### 累積代入文"
   ]
  },
  {
   "cell_type": "code",
   "execution_count": 13,
   "id": "d4aa78dd-0e9a-48c6-9192-c4c22b2c8113",
   "metadata": {},
   "outputs": [],
   "source": [
    "d = 0.0"
   ]
  },
  {
   "cell_type": "code",
   "execution_count": 14,
   "id": "e21ab2ca-74e8-4283-aeb1-82771b8e0997",
   "metadata": {},
   "outputs": [],
   "source": [
    "d += 1.0"
   ]
  },
  {
   "cell_type": "code",
   "execution_count": 15,
   "id": "810ef471-df22-4a42-a31b-18c76a2fd26f",
   "metadata": {},
   "outputs": [
    {
     "data": {
      "text/plain": [
       "1.0"
      ]
     },
     "execution_count": 15,
     "metadata": {},
     "output_type": "execute_result"
    }
   ],
   "source": [
    "d"
   ]
  },
  {
   "cell_type": "code",
   "execution_count": 16,
   "id": "054b0d22-ec5d-42a5-b3cd-556233355dc7",
   "metadata": {},
   "outputs": [],
   "source": [
    "d *= 3"
   ]
  },
  {
   "cell_type": "code",
   "execution_count": 17,
   "id": "3eee32b1-a58c-480a-a960-25431d641213",
   "metadata": {},
   "outputs": [
    {
     "data": {
      "text/plain": [
       "3.0"
      ]
     },
     "execution_count": 17,
     "metadata": {},
     "output_type": "execute_result"
    }
   ],
   "source": [
    "d"
   ]
  },
  {
   "cell_type": "code",
   "execution_count": 18,
   "id": "b4cf4960-5b4b-4a5f-92f1-9468dc2bf86d",
   "metadata": {},
   "outputs": [],
   "source": [
    "d *= 3"
   ]
  },
  {
   "cell_type": "code",
   "execution_count": 19,
   "id": "f920ed53-576b-4e31-b41c-f074d5d29ba6",
   "metadata": {},
   "outputs": [
    {
     "data": {
      "text/plain": [
       "9.0"
      ]
     },
     "execution_count": 19,
     "metadata": {},
     "output_type": "execute_result"
    }
   ],
   "source": [
    "d"
   ]
  },
  {
   "cell_type": "markdown",
   "id": "9515a33e",
   "metadata": {},
   "source": [
    "# 文字列 (str)\n",
    "文字を扱うためのオブジェクト"
   ]
  },
  {
   "cell_type": "markdown",
   "id": "92b0803c",
   "metadata": {},
   "source": [
    "## 文字列の代入"
   ]
  },
  {
   "cell_type": "code",
   "execution_count": 20,
   "id": "888257ee-5929-47be-8b3c-76b46d7c798e",
   "metadata": {},
   "outputs": [],
   "source": [
    "astr = 'string'"
   ]
  },
  {
   "cell_type": "code",
   "execution_count": 21,
   "id": "ffefd90a-99f1-457c-b1a0-5b0bcc54b2fe",
   "metadata": {},
   "outputs": [
    {
     "data": {
      "text/plain": [
       "'string'"
      ]
     },
     "execution_count": 21,
     "metadata": {},
     "output_type": "execute_result"
    }
   ],
   "source": [
    "astr"
   ]
  },
  {
   "cell_type": "markdown",
   "id": "723a6afe",
   "metadata": {},
   "source": [
    "## 文字列の長さ (len関数)"
   ]
  },
  {
   "cell_type": "code",
   "execution_count": 22,
   "id": "38fe20ad-8554-4728-a11c-a475bbb1ef51",
   "metadata": {},
   "outputs": [
    {
     "data": {
      "text/plain": [
       "6"
      ]
     },
     "execution_count": 22,
     "metadata": {},
     "output_type": "execute_result"
    }
   ],
   "source": [
    "len(astr)"
   ]
  },
  {
   "cell_type": "markdown",
   "id": "d81d9d99",
   "metadata": {},
   "source": [
    "## 文字列へのアクセス"
   ]
  },
  {
   "cell_type": "markdown",
   "id": "839e55ae",
   "metadata": {},
   "source": [
    "### 位置"
   ]
  },
  {
   "cell_type": "code",
   "execution_count": 23,
   "id": "fd568c07-4ef8-45f7-9f5e-8967a602c826",
   "metadata": {},
   "outputs": [
    {
     "data": {
      "text/plain": [
       "'s'"
      ]
     },
     "execution_count": 23,
     "metadata": {},
     "output_type": "execute_result"
    }
   ],
   "source": [
    "astr[0]"
   ]
  },
  {
   "cell_type": "code",
   "execution_count": 24,
   "id": "27395d8c-566d-424b-a63a-971bb8c1f65d",
   "metadata": {},
   "outputs": [
    {
     "data": {
      "text/plain": [
       "'t'"
      ]
     },
     "execution_count": 24,
     "metadata": {},
     "output_type": "execute_result"
    }
   ],
   "source": [
    "astr[1]"
   ]
  },
  {
   "cell_type": "markdown",
   "id": "a3dc187d",
   "metadata": {},
   "source": [
    "### スライス [ : ]"
   ]
  },
  {
   "cell_type": "code",
   "execution_count": 25,
   "id": "2b073425-7624-4515-bb51-07a6697b01e9",
   "metadata": {},
   "outputs": [
    {
     "data": {
      "text/plain": [
       "'tring'"
      ]
     },
     "execution_count": 25,
     "metadata": {},
     "output_type": "execute_result"
    }
   ],
   "source": [
    "astr[1:]"
   ]
  },
  {
   "cell_type": "code",
   "execution_count": 26,
   "id": "ea0cc6f9-892d-423d-88ad-1b899fcf3103",
   "metadata": {},
   "outputs": [
    {
     "data": {
      "text/plain": [
       "'st'"
      ]
     },
     "execution_count": 26,
     "metadata": {},
     "output_type": "execute_result"
    }
   ],
   "source": [
    "astr[:2]"
   ]
  },
  {
   "cell_type": "code",
   "execution_count": 27,
   "id": "efda51af-d728-4076-98b2-ccd22ef10f6c",
   "metadata": {},
   "outputs": [
    {
     "data": {
      "text/plain": [
       "'strin'"
      ]
     },
     "execution_count": 27,
     "metadata": {},
     "output_type": "execute_result"
    }
   ],
   "source": [
    "astr[:-1]"
   ]
  },
  {
   "cell_type": "code",
   "execution_count": 28,
   "id": "c12263d0-59a2-4be3-8918-c5a9d91343bc",
   "metadata": {},
   "outputs": [
    {
     "data": {
      "text/plain": [
       "'ri'"
      ]
     },
     "execution_count": 28,
     "metadata": {},
     "output_type": "execute_result"
    }
   ],
   "source": [
    "astr[2:4]"
   ]
  },
  {
   "cell_type": "markdown",
   "id": "165a694a",
   "metadata": {},
   "source": [
    "### 文字列の演算"
   ]
  },
  {
   "cell_type": "code",
   "execution_count": 29,
   "id": "43204209-d10e-4035-9bf6-59a3c242ec33",
   "metadata": {},
   "outputs": [
    {
     "data": {
      "text/plain": [
       "'string+bbb'"
      ]
     },
     "execution_count": 29,
     "metadata": {},
     "output_type": "execute_result"
    }
   ],
   "source": [
    "astr + '+bbb'"
   ]
  },
  {
   "cell_type": "markdown",
   "id": "add6f47e-0f6c-461e-bdad-86a267625f1e",
   "metadata": {},
   "source": [
    "# printとformat"
   ]
  },
  {
   "cell_type": "markdown",
   "id": "fbe99990-a743-44f9-8c5e-44f6b887d6b3",
   "metadata": {},
   "source": [
    "## print\n",
    "print関数\n",
    "https://docs.python.org/ja/3/library/functions.html#print"
   ]
  },
  {
   "cell_type": "code",
   "execution_count": 1,
   "id": "d52ecec2-f580-43d6-a750-9f3edec9ad69",
   "metadata": {},
   "outputs": [
    {
     "name": "stdout",
     "output_type": "stream",
     "text": [
      "test\n"
     ]
    }
   ],
   "source": [
    "print('test')"
   ]
  },
  {
   "cell_type": "code",
   "execution_count": 3,
   "id": "ccd2b62e-0a72-46f1-8904-32597e6507ea",
   "metadata": {},
   "outputs": [
    {
     "name": "stdout",
     "output_type": "stream",
     "text": [
      "1 -1.0 str\n"
     ]
    }
   ],
   "source": [
    "a = 1\n",
    "b = -1.0\n",
    "c = 'str'\n",
    "print(a, b, c)"
   ]
  },
  {
   "cell_type": "markdown",
   "id": "154364d2-5dba-4910-97ff-e30f063b0596",
   "metadata": {},
   "source": [
    "## format\n",
    "stringのformatメソッド\n",
    "https://docs.python.org/ja/3/library/stdtypes.html#str.format"
   ]
  },
  {
   "cell_type": "code",
   "execution_count": 4,
   "id": "f4eaa9a1-e4ed-47ba-812e-c60e6bc5f098",
   "metadata": {},
   "outputs": [
    {
     "data": {
      "text/plain": [
       "'a = 0'"
      ]
     },
     "execution_count": 4,
     "metadata": {},
     "output_type": "execute_result"
    }
   ],
   "source": [
    "a = 0\n",
    "'a = {}'.format(a)"
   ]
  },
  {
   "cell_type": "code",
   "execution_count": 5,
   "id": "a0bf3b24-e4e7-4ff9-bd94-83c16020a310",
   "metadata": {},
   "outputs": [
    {
     "data": {
      "text/plain": [
       "'AA is BB'"
      ]
     },
     "execution_count": 5,
     "metadata": {},
     "output_type": "execute_result"
    }
   ],
   "source": [
    "'{a} is {b}'.format(a = 'AA', b = 'BB')"
   ]
  },
  {
   "cell_type": "code",
   "execution_count": 6,
   "id": "30a121df-8fd3-499d-bc47-27205f5ea8e2",
   "metadata": {},
   "outputs": [
    {
     "name": "stdout",
     "output_type": "stream",
     "text": [
      "a/-1.0/1\n"
     ]
    }
   ],
   "source": [
    "print('{}/{}/{}'.format('a', -1.0, 1))"
   ]
  },
  {
   "cell_type": "markdown",
   "id": "cbb24760",
   "metadata": {},
   "source": [
    "# リスト (list)\n",
    "配列を扱うためのオブジェクト"
   ]
  },
  {
   "cell_type": "markdown",
   "id": "f7c0ea82",
   "metadata": {},
   "source": [
    "## リストの代入"
   ]
  },
  {
   "cell_type": "code",
   "execution_count": 30,
   "id": "e869a91d-5af0-434a-9f62-a52d5d67cee1",
   "metadata": {},
   "outputs": [],
   "source": [
    "alist=[0, 1, 2, 3, 4, 5, 6, 7]"
   ]
  },
  {
   "cell_type": "code",
   "execution_count": 31,
   "id": "834ecde9-6788-4c83-869d-994806202877",
   "metadata": {},
   "outputs": [
    {
     "data": {
      "text/plain": [
       "[0, 1, 2, 3, 4, 5, 6, 7]"
      ]
     },
     "execution_count": 31,
     "metadata": {},
     "output_type": "execute_result"
    }
   ],
   "source": [
    "alist"
   ]
  },
  {
   "cell_type": "markdown",
   "id": "5e52a742",
   "metadata": {},
   "source": [
    "## リストの長さ (len関数)"
   ]
  },
  {
   "cell_type": "code",
   "execution_count": 32,
   "id": "ffde22b4-4a29-4a27-903c-caf19bfab928",
   "metadata": {},
   "outputs": [
    {
     "data": {
      "text/plain": [
       "8"
      ]
     },
     "execution_count": 32,
     "metadata": {},
     "output_type": "execute_result"
    }
   ],
   "source": [
    "len(alist)"
   ]
  },
  {
   "cell_type": "markdown",
   "id": "56dfaa21",
   "metadata": {},
   "source": [
    "## リストへのアクセス"
   ]
  },
  {
   "cell_type": "markdown",
   "id": "bf75818e",
   "metadata": {},
   "source": [
    "### 位置"
   ]
  },
  {
   "cell_type": "code",
   "execution_count": 33,
   "id": "8792cdc6-6f33-4b2c-9339-dc0af3e5ad43",
   "metadata": {},
   "outputs": [
    {
     "data": {
      "text/plain": [
       "0"
      ]
     },
     "execution_count": 33,
     "metadata": {},
     "output_type": "execute_result"
    }
   ],
   "source": [
    "alist[0]"
   ]
  },
  {
   "cell_type": "code",
   "execution_count": 34,
   "id": "40623f74-523e-4141-9950-e5b35f89e6fe",
   "metadata": {},
   "outputs": [
    {
     "data": {
      "text/plain": [
       "1"
      ]
     },
     "execution_count": 34,
     "metadata": {},
     "output_type": "execute_result"
    }
   ],
   "source": [
    "alist[1]"
   ]
  },
  {
   "cell_type": "markdown",
   "id": "34873670",
   "metadata": {},
   "source": [
    "### スライス [ : ]"
   ]
  },
  {
   "cell_type": "code",
   "execution_count": 35,
   "id": "2d137df6-a0e7-41c4-8e8a-9ce3f77b7a1e",
   "metadata": {},
   "outputs": [
    {
     "data": {
      "text/plain": [
       "[1, 2, 3, 4, 5, 6, 7]"
      ]
     },
     "execution_count": 35,
     "metadata": {},
     "output_type": "execute_result"
    }
   ],
   "source": [
    "alist[1:]"
   ]
  },
  {
   "cell_type": "code",
   "execution_count": 36,
   "id": "2b173ef9-9b9c-4095-967a-31ab03dd7120",
   "metadata": {},
   "outputs": [
    {
     "data": {
      "text/plain": [
       "[0, 1]"
      ]
     },
     "execution_count": 36,
     "metadata": {},
     "output_type": "execute_result"
    }
   ],
   "source": [
    "alist[:2]"
   ]
  },
  {
   "cell_type": "code",
   "execution_count": 37,
   "id": "2eda5afd-e971-4b95-aa59-c09f75b74f76",
   "metadata": {},
   "outputs": [
    {
     "data": {
      "text/plain": [
       "[0, 1, 2, 3, 4, 5, 6]"
      ]
     },
     "execution_count": 37,
     "metadata": {},
     "output_type": "execute_result"
    }
   ],
   "source": [
    "alist[:-1]"
   ]
  },
  {
   "cell_type": "code",
   "execution_count": 38,
   "id": "e184ac1d-db16-4e33-95f8-6b72c7a12bd9",
   "metadata": {},
   "outputs": [
    {
     "data": {
      "text/plain": [
       "[2, 3]"
      ]
     },
     "execution_count": 38,
     "metadata": {},
     "output_type": "execute_result"
    }
   ],
   "source": [
    "alist[2:4]"
   ]
  },
  {
   "cell_type": "markdown",
   "id": "b0b664b9",
   "metadata": {},
   "source": [
    "### リストの演算"
   ]
  },
  {
   "cell_type": "code",
   "execution_count": 39,
   "id": "4b17501f-ae6e-4379-8be9-6c2e25686d3b",
   "metadata": {},
   "outputs": [
    {
     "data": {
      "text/plain": [
       "[0, 1, 2, 3, 4, 5, 6, 7, 'a', 'b', 'c']"
      ]
     },
     "execution_count": 39,
     "metadata": {},
     "output_type": "execute_result"
    }
   ],
   "source": [
    "alist + ['a', 'b', 'c']"
   ]
  },
  {
   "cell_type": "code",
   "execution_count": 40,
   "id": "7272cc84-9338-47a2-bc85-8a187a1cc72a",
   "metadata": {},
   "outputs": [
    {
     "data": {
      "text/plain": [
       "[0, 1, 2, 3, 4, 5, 6, 7, 0, 1, 2, 3, 4, 5, 6, 7]"
      ]
     },
     "execution_count": 40,
     "metadata": {},
     "output_type": "execute_result"
    }
   ],
   "source": [
    "alist * 2"
   ]
  },
  {
   "cell_type": "code",
   "execution_count": 41,
   "id": "69710a38-a50a-4b78-97c3-d6ff148caf58",
   "metadata": {
    "scrolled": true
   },
   "outputs": [
    {
     "data": {
      "text/plain": [
       "8"
      ]
     },
     "execution_count": 41,
     "metadata": {},
     "output_type": "execute_result"
    }
   ],
   "source": [
    "len(alist)"
   ]
  },
  {
   "cell_type": "markdown",
   "id": "7ea953db",
   "metadata": {},
   "source": [
    "### 要素の存在確認"
   ]
  },
  {
   "cell_type": "code",
   "execution_count": 42,
   "id": "166abad0-6568-4d42-9e63-7e5763fdb547",
   "metadata": {},
   "outputs": [
    {
     "data": {
      "text/plain": [
       "True"
      ]
     },
     "execution_count": 42,
     "metadata": {},
     "output_type": "execute_result"
    }
   ],
   "source": [
    "3 in alist"
   ]
  },
  {
   "cell_type": "markdown",
   "id": "9c053fcd-e4de-40e1-a3f1-75824420df8b",
   "metadata": {},
   "source": [
    "# 辞書 (dict)\n",
    "[連想配列](https://ja.wikipedia.org/wiki/%E9%80%A3%E6%83%B3%E9%85%8D%E5%88%97) や \n",
    "[キーバリューストア(key value store)](https://ja.wikipedia.org/wiki/%E3%82%AD%E3%83%BC%E3%83%90%E3%83%AA%E3%83%A5%E3%83%BC%E5%9E%8B%E3%83%87%E3%83%BC%E3%82%BF%E3%83%99%E3%83%BC%E3%82%B9)\n",
    "として知られる形式\n",
    "\n",
    "なので\n",
    "```{'key': value}```\n",
    "のように、キー(key)、値(value) という説明がなされることがある。"
   ]
  },
  {
   "cell_type": "markdown",
   "id": "f822b2f3",
   "metadata": {},
   "source": [
    "## 辞書の代入"
   ]
  },
  {
   "cell_type": "code",
   "execution_count": 43,
   "id": "70b72e66-ad03-4043-a460-784b820aa6a1",
   "metadata": {},
   "outputs": [],
   "source": [
    "adict = {}"
   ]
  },
  {
   "cell_type": "code",
   "execution_count": 44,
   "id": "d044c86a-0cb6-4c2a-a13c-2bdab834e9b0",
   "metadata": {},
   "outputs": [
    {
     "data": {
      "text/plain": [
       "{}"
      ]
     },
     "execution_count": 44,
     "metadata": {},
     "output_type": "execute_result"
    }
   ],
   "source": [
    "adict"
   ]
  },
  {
   "cell_type": "code",
   "execution_count": 45,
   "id": "dba67dc6-b61c-4e11-ab37-71406c0ad0ff",
   "metadata": {},
   "outputs": [
    {
     "ename": "KeyError",
     "evalue": "'a'",
     "output_type": "error",
     "traceback": [
      "\u001b[0;31m---------------------------------------------------------------------------\u001b[0m",
      "\u001b[0;31mKeyError\u001b[0m                                  Traceback (most recent call last)",
      "\u001b[0;32m<ipython-input-45-0593b7d4c4a5>\u001b[0m in \u001b[0;36m<module>\u001b[0;34m\u001b[0m\n\u001b[0;32m----> 1\u001b[0;31m \u001b[0madict\u001b[0m\u001b[0;34m[\u001b[0m\u001b[0;34m'a'\u001b[0m\u001b[0;34m]\u001b[0m\u001b[0;34m\u001b[0m\u001b[0;34m\u001b[0m\u001b[0m\n\u001b[0m",
      "\u001b[0;31mKeyError\u001b[0m: 'a'"
     ]
    }
   ],
   "source": [
    "adict['a']"
   ]
  },
  {
   "cell_type": "code",
   "execution_count": 46,
   "id": "a9255875-a046-4d70-afb6-56ab6e266e8f",
   "metadata": {},
   "outputs": [],
   "source": [
    "adict['a'] = 1"
   ]
  },
  {
   "cell_type": "code",
   "execution_count": 47,
   "id": "ce6eb60e-6398-4b4a-adba-be6feb197002",
   "metadata": {},
   "outputs": [
    {
     "data": {
      "text/plain": [
       "{'a': 1}"
      ]
     },
     "execution_count": 47,
     "metadata": {},
     "output_type": "execute_result"
    }
   ],
   "source": [
    "adict"
   ]
  },
  {
   "cell_type": "markdown",
   "id": "6362b282",
   "metadata": {},
   "source": [
    "## 辞書へのアクセス"
   ]
  },
  {
   "cell_type": "markdown",
   "id": "1c3faaac",
   "metadata": {},
   "source": [
    "### キーワード"
   ]
  },
  {
   "cell_type": "code",
   "execution_count": 48,
   "id": "c3b5e029-c765-4764-b63b-e6d4641160f1",
   "metadata": {},
   "outputs": [
    {
     "data": {
      "text/plain": [
       "1"
      ]
     },
     "execution_count": 48,
     "metadata": {},
     "output_type": "execute_result"
    }
   ],
   "source": [
    "adict['a']"
   ]
  },
  {
   "cell_type": "markdown",
   "id": "0368fbab",
   "metadata": {},
   "source": [
    "### 要素の存在確認"
   ]
  },
  {
   "cell_type": "code",
   "execution_count": 49,
   "id": "928574bc-36f2-4605-b8be-9d90eec75c9a",
   "metadata": {},
   "outputs": [
    {
     "data": {
      "text/plain": [
       "True"
      ]
     },
     "execution_count": 49,
     "metadata": {},
     "output_type": "execute_result"
    }
   ],
   "source": [
    "'a' in adict"
   ]
  },
  {
   "cell_type": "markdown",
   "id": "4e673591",
   "metadata": {},
   "source": [
    "### 再代入"
   ]
  },
  {
   "cell_type": "code",
   "execution_count": 50,
   "id": "8d0051c6-5fd8-4d04-bc7e-e41f974f8f24",
   "metadata": {},
   "outputs": [],
   "source": [
    "adict['a'] = 2"
   ]
  },
  {
   "cell_type": "code",
   "execution_count": 51,
   "id": "70062027-5fa5-40e6-9248-7e894e97e64b",
   "metadata": {},
   "outputs": [
    {
     "data": {
      "text/plain": [
       "{'a': 2}"
      ]
     },
     "execution_count": 51,
     "metadata": {},
     "output_type": "execute_result"
    }
   ],
   "source": [
    "adict"
   ]
  },
  {
   "cell_type": "markdown",
   "id": "60949791",
   "metadata": {},
   "source": [
    "# 変数、リストや辞書の要素となれるもの\n",
    "数値、真偽値、文字列、リスト、辞書、オブジェクト(クラスのインスタンス)\n",
    "\n",
    "辞書のキーには制限がある（上級レベル）"
   ]
  },
  {
   "cell_type": "code",
   "execution_count": 52,
   "id": "4939bfa8-b1e4-463c-84e6-42f3a9c92960",
   "metadata": {},
   "outputs": [
    {
     "data": {
      "text/plain": [
       "[[0, 1, 2, 3, 4, 5, 6, 7], {'a': 2}, 'string']"
      ]
     },
     "execution_count": 52,
     "metadata": {},
     "output_type": "execute_result"
    }
   ],
   "source": [
    "[alist, adict, astr]"
   ]
  },
  {
   "cell_type": "markdown",
   "id": "d3ee4790",
   "metadata": {},
   "source": [
    "# 真偽値の取り扱い"
   ]
  },
  {
   "cell_type": "markdown",
   "id": "667c0615",
   "metadata": {},
   "source": [
    "## 真偽値型\n",
    "真偽値型は True と False である"
   ]
  },
  {
   "cell_type": "code",
   "execution_count": 53,
   "id": "6f2a338b",
   "metadata": {},
   "outputs": [
    {
     "data": {
      "text/plain": [
       "True"
      ]
     },
     "execution_count": 53,
     "metadata": {},
     "output_type": "execute_result"
    }
   ],
   "source": [
    "True"
   ]
  },
  {
   "cell_type": "code",
   "execution_count": 54,
   "id": "60fc6443",
   "metadata": {},
   "outputs": [
    {
     "data": {
      "text/plain": [
       "False"
      ]
     },
     "execution_count": 54,
     "metadata": {},
     "output_type": "execute_result"
    }
   ],
   "source": [
    "False"
   ]
  },
  {
   "cell_type": "markdown",
   "id": "ab3dc6bd",
   "metadata": {},
   "source": [
    "## 理論演算\n",
    "and, or, not の理論演算子があります"
   ]
  },
  {
   "cell_type": "markdown",
   "id": "a11b72a1",
   "metadata": {},
   "source": [
    "### not 演算子"
   ]
  },
  {
   "cell_type": "code",
   "execution_count": 89,
   "id": "6e1964a7",
   "metadata": {},
   "outputs": [
    {
     "data": {
      "text/plain": [
       "False"
      ]
     },
     "execution_count": 55,
     "metadata": {},
     "output_type": "execute_result"
    }
   ],
   "source": [
    " True"
   ]
  },
  {
   "cell_type": "code",
   "execution_count": 56,
   "id": "87a8adc9",
   "metadata": {},
   "outputs": [
    {
     "data": {
      "text/plain": [
       "True"
      ]
     },
     "execution_count": 56,
     "metadata": {},
     "output_type": "execute_result"
    }
   ],
   "source": [
    "not False"
   ]
  },
  {
   "cell_type": "markdown",
   "id": "316e1d46",
   "metadata": {},
   "source": [
    "### and 演算子"
   ]
  },
  {
   "cell_type": "code",
   "execution_count": 57,
   "id": "daa5cdcd",
   "metadata": {},
   "outputs": [
    {
     "data": {
      "text/plain": [
       "True"
      ]
     },
     "execution_count": 57,
     "metadata": {},
     "output_type": "execute_result"
    }
   ],
   "source": [
    "True and True"
   ]
  },
  {
   "cell_type": "code",
   "execution_count": 58,
   "id": "bb558cc3",
   "metadata": {},
   "outputs": [
    {
     "data": {
      "text/plain": [
       "False"
      ]
     },
     "execution_count": 58,
     "metadata": {},
     "output_type": "execute_result"
    }
   ],
   "source": [
    "True and False"
   ]
  },
  {
   "cell_type": "markdown",
   "id": "d48db500",
   "metadata": {},
   "source": [
    "### or 演算子"
   ]
  },
  {
   "cell_type": "code",
   "execution_count": 59,
   "id": "e51b12fc",
   "metadata": {},
   "outputs": [
    {
     "data": {
      "text/plain": [
       "True"
      ]
     },
     "execution_count": 59,
     "metadata": {},
     "output_type": "execute_result"
    }
   ],
   "source": [
    "True or False"
   ]
  },
  {
   "cell_type": "code",
   "execution_count": 60,
   "id": "7a75a1e7",
   "metadata": {},
   "outputs": [
    {
     "data": {
      "text/plain": [
       "False"
      ]
     },
     "execution_count": 60,
     "metadata": {},
     "output_type": "execute_result"
    }
   ],
   "source": [
    "False or False"
   ]
  },
  {
   "cell_type": "markdown",
   "id": "57e809cc",
   "metadata": {},
   "source": [
    "### 理論演算子の複合"
   ]
  },
  {
   "cell_type": "code",
   "execution_count": 61,
   "id": "b67b920c-9b76-47bc-a332-9affd92f97ea",
   "metadata": {},
   "outputs": [
    {
     "data": {
      "text/plain": [
       "True"
      ]
     },
     "execution_count": 61,
     "metadata": {},
     "output_type": "execute_result"
    }
   ],
   "source": [
    "((not True) or True) and True"
   ]
  },
  {
   "cell_type": "markdown",
   "id": "15bac44e",
   "metadata": {},
   "source": [
    "## 真偽値を返す演算子（比較演算子）"
   ]
  },
  {
   "cell_type": "markdown",
   "id": "d504bba0",
   "metadata": {},
   "source": [
    "### == (イコール)"
   ]
  },
  {
   "cell_type": "code",
   "execution_count": 62,
   "id": "0182ee2d",
   "metadata": {},
   "outputs": [
    {
     "data": {
      "text/plain": [
       "True"
      ]
     },
     "execution_count": 62,
     "metadata": {},
     "output_type": "execute_result"
    }
   ],
   "source": [
    "1.0 == 1.0"
   ]
  },
  {
   "cell_type": "markdown",
   "id": "7f9cbd14",
   "metadata": {},
   "source": [
    "### != (ノット イコール)"
   ]
  },
  {
   "cell_type": "code",
   "execution_count": 63,
   "id": "21627e8d",
   "metadata": {},
   "outputs": [
    {
     "data": {
      "text/plain": [
       "False"
      ]
     },
     "execution_count": 63,
     "metadata": {},
     "output_type": "execute_result"
    }
   ],
   "source": [
    "1.0 != 1.0"
   ]
  },
  {
   "cell_type": "markdown",
   "id": "7d9bb0ba",
   "metadata": {},
   "source": [
    "### >, <, >=, <= (大なり、小なり)"
   ]
  },
  {
   "cell_type": "code",
   "execution_count": 64,
   "id": "0c35bad6",
   "metadata": {},
   "outputs": [
    {
     "data": {
      "text/plain": [
       "True"
      ]
     },
     "execution_count": 64,
     "metadata": {},
     "output_type": "execute_result"
    }
   ],
   "source": [
    "2.0 > 1.0"
   ]
  },
  {
   "cell_type": "code",
   "execution_count": 65,
   "id": "ab75f269",
   "metadata": {},
   "outputs": [
    {
     "data": {
      "text/plain": [
       "False"
      ]
     },
     "execution_count": 65,
     "metadata": {},
     "output_type": "execute_result"
    }
   ],
   "source": [
    "1.0 < 1.0"
   ]
  },
  {
   "cell_type": "code",
   "execution_count": 66,
   "id": "1c7cd8a8",
   "metadata": {},
   "outputs": [
    {
     "data": {
      "text/plain": [
       "True"
      ]
     },
     "execution_count": 66,
     "metadata": {},
     "output_type": "execute_result"
    }
   ],
   "source": [
    "1.0 >= 1.0"
   ]
  },
  {
   "cell_type": "code",
   "execution_count": 67,
   "id": "e8b10cf1",
   "metadata": {},
   "outputs": [
    {
     "data": {
      "text/plain": [
       "True"
      ]
     },
     "execution_count": 67,
     "metadata": {},
     "output_type": "execute_result"
    }
   ],
   "source": [
    "1.0 <= 1.0"
   ]
  },
  {
   "cell_type": "markdown",
   "id": "df182212",
   "metadata": {},
   "source": [
    "# 条件分岐"
   ]
  },
  {
   "cell_type": "markdown",
   "id": "b5962db2",
   "metadata": {},
   "source": [
    "## if\n",
    "```\n",
    "if 式１:\n",
    "    ここのグループは「式１」が真のときにのみ実行される\n",
    "```\n",
    "\n",
    "***<ポイント>***\n",
    "\n",
    "式１は真偽値を返す式です。\n",
    "\n",
    "`if 式１:`の次は改行して、インデントする必要があります。\n",
    "\n",
    "インデントは行の初めからスペースを入力します。ここでは、インデントを <font color=\"red\">■</font> で表しています。\n",
    "\n",
    "***<コードの説明>***\n",
    "\n",
    "1:if 式１:\n",
    "\n",
    "2:<font color=\"red\">■■■■</font>ここのグループは「式１」が真のときにのみ実行される\n",
    "\n",
    "\n",
    "\n"
   ]
  },
  {
   "cell_type": "code",
   "execution_count": 68,
   "id": "75be317a",
   "metadata": {},
   "outputs": [
    {
     "name": "stdout",
     "output_type": "stream",
     "text": [
      "1.0\n"
     ]
    }
   ],
   "source": [
    "a = 0.0\n",
    "if True:\n",
    "    a = 1.0\n",
    "print(a)"
   ]
  },
  {
   "cell_type": "markdown",
   "id": "2e369e47",
   "metadata": {},
   "source": [
    "## else\n",
    "```\n",
    "前グループ\n",
    "if 式１:\n",
    "    ここのグループは「式１」が真のときにのみ実行される\n",
    "elif 式２:\n",
    "    ここのグループは「式１」が偽で「式２」が真のときにのみ実行される\n",
    "else:\n",
    "    ここのグループは「式１」と「式２」が偽のときにのみ実行される\n",
    "後グループ\n",
    "```\n",
    "\n",
    "***<ポイント>***\n",
    "\n",
    "ifの条件に一致しなかった場合に、続けて評価を行うことができます。\n",
    "\n",
    "`elif` は前の条件がすべて偽だったときに、新たな条件が真なら実行されるグループが続きます。\n",
    "\n",
    "`else` は前の条件がすべて偽だったときに実行されるグループが続きます。"
   ]
  },
  {
   "cell_type": "code",
   "execution_count": 69,
   "id": "1ce90816",
   "metadata": {},
   "outputs": [
    {
     "name": "stdout",
     "output_type": "stream",
     "text": [
      "a>1.5\n"
     ]
    }
   ],
   "source": [
    "a = 2.0\n",
    "if a > 1.5:\n",
    "    print('a>1.5')\n",
    "else:\n",
    "    print('a<=1.5')\n"
   ]
  },
  {
   "cell_type": "markdown",
   "id": "5ee7392f",
   "metadata": {},
   "source": [
    "## インデントによるグループ\n",
    "```\n",
    "前グループ\n",
    "if 式:\n",
    "    ここのグループは「式」が真のときにのみ実行される（前）\n",
    "    if 式３:\n",
    "        ここのグループは「式３」が真のときにのみ実行される\n",
    "    ここのグループは「式」が真のときにのみ実行される（後）\n",
    "else:\n",
    "    ここのグループは「式」が偽のときにのみ実行される\n",
    "後グループ\n",
    "```\n",
    "\n",
    "***<ポイント>***\n",
    "\n",
    "`if 式:` の後に続く同じグループの文は、同じインデント幅としなければなりません\n",
    "\n",
    "下の例では赤のインデント（４つのスペース）が同じグループに属する分です。\n",
    "\n",
    "`if 式３:` で条件分岐したグループは、緑のインデント（８つのスペース）で表しています。\n",
    "\n",
    "緑のインデントは赤のインデントよりも大きい必要があります。\n",
    "\n",
    "グループはより小さいインデントが現れたところで終わります。\n",
    "\n",
    "***<コードの説明>***\n",
    "\n",
    "1: if 式:\n",
    "\n",
    "2: <font color=\"red\">■■■■</font>ここのグループは「式」が真のときにのみ実行される（前）\n",
    "\n",
    "3: <font color=\"red\">■■■■</font>if 式３:\n",
    "\n",
    "4: <font color=\"green\">■■■■■■■■</font>ここのグループは「式３」が真のときにのみ実行される\n",
    "\n",
    "5: <font color=\"red\">■■■■</font>ここのグループは「式」が真のときにのみ実行される（後）\n"
   ]
  },
  {
   "cell_type": "code",
   "execution_count": 70,
   "id": "42685c74",
   "metadata": {},
   "outputs": [
    {
     "name": "stdout",
     "output_type": "stream",
     "text": [
      "a>1.5\n",
      "a>2.0\n"
     ]
    }
   ],
   "source": [
    "a = 2.0\n",
    "if a > 1.5:\n",
    "    print('a>1.5')\n",
    "    if a >= 2.0:\n",
    "        print('a>2.0')\n",
    "elif a < 0.0:\n",
    "    print('a<0.0')\n",
    "else:\n",
    "    print('a<=1.5')\n"
   ]
  },
  {
   "cell_type": "markdown",
   "id": "4a1eb635",
   "metadata": {},
   "source": [
    "# 繰り返し"
   ]
  },
  {
   "cell_type": "markdown",
   "id": "bb186925",
   "metadata": {},
   "source": [
    "## for文\n",
    "\n",
    "```\n",
    "for 変数 in 文字列・リスト・辞書等(iterator, iterable):\n",
    "    実行文\n",
    "```\n",
    "\n",
    "***<ポイント>***\n",
    "\n",
    "for文の `:` の後に改行して、インデントして実行分を記述します。\n",
    "\n",
    "if文と同様の扱いで、実行分のグループが作られます。\n",
    "\n",
    "変数で指定した変数を実行文の中で使うことができます。\n",
    "\n",
    "変数には in で指定したオブジェクトの要素が繰り返し入ります。\n",
    "\n",
    "***<コードの説明>***\n",
    "\n",
    "1: for 変数 in 文字列・リスト・辞書等(iterator, iterable):\n",
    "\n",
    "2: <font color=\"red\">■■■■</font>実行文\n",
    "\n",
    "3: <font color=\"red\">■■■■</font>実行文\n"
   ]
  },
  {
   "cell_type": "code",
   "execution_count": 71,
   "id": "0a657a9b",
   "metadata": {},
   "outputs": [
    {
     "name": "stdout",
     "output_type": "stream",
     "text": [
      "a\n",
      "0\n",
      "1\n",
      "b\n",
      "0\n",
      "1\n",
      "c\n",
      "0\n",
      "1\n"
     ]
    }
   ],
   "source": [
    "for bb in ['a', 'b', 'c']:\n",
    "    print(bb)\n",
    "    for cc in [0, 1]:\n",
    "        print(cc)\n"
   ]
  },
  {
   "cell_type": "markdown",
   "id": "633516dc",
   "metadata": {},
   "source": [
    "### range\n",
    "range(数字) は 0から数字-1までの数字回の繰り返しが行われます。\n",
    "\n",
    "https://docs.python.org/ja/3/library/stdtypes.html#range"
   ]
  },
  {
   "cell_type": "code",
   "execution_count": 72,
   "id": "a941903a",
   "metadata": {},
   "outputs": [
    {
     "name": "stdout",
     "output_type": "stream",
     "text": [
      "0\n",
      "1\n",
      "2\n",
      "3\n"
     ]
    }
   ],
   "source": [
    "for idx in range(4):\n",
    "    print(idx)\n"
   ]
  },
  {
   "cell_type": "markdown",
   "id": "1e8069b4",
   "metadata": {},
   "source": [
    "### enumerate\n",
    "\n",
    "繰り返しにインデックス（繰り返し回数）を付けます。\n",
    "\n",
    "https://docs.python.org/ja/3/library/functions.html#enumerate"
   ]
  },
  {
   "cell_type": "code",
   "execution_count": 74,
   "id": "7d4de264",
   "metadata": {},
   "outputs": [
    {
     "name": "stdout",
     "output_type": "stream",
     "text": [
      "0 / a\n",
      "1 / b\n",
      "2 / c\n"
     ]
    }
   ],
   "source": [
    "for idx, elm in enumerate(['a', 'b', 'c']):\n",
    "    print(idx, '/', elm)\n"
   ]
  },
  {
   "cell_type": "markdown",
   "id": "205b0f77",
   "metadata": {},
   "source": [
    "### 辞書の繰り返し"
   ]
  },
  {
   "cell_type": "code",
   "execution_count": 75,
   "id": "e9c79da2",
   "metadata": {},
   "outputs": [
    {
     "name": "stdout",
     "output_type": "stream",
     "text": [
      "a\n",
      "b\n",
      "c\n"
     ]
    }
   ],
   "source": [
    "adict = {'a': 0, 'b': 1, 'c': 2}\n",
    "for k in adict:\n",
    "    print(k)\n"
   ]
  },
  {
   "cell_type": "code",
   "execution_count": 76,
   "id": "82084c6a",
   "metadata": {},
   "outputs": [
    {
     "name": "stdout",
     "output_type": "stream",
     "text": [
      "a\n",
      "b\n",
      "c\n"
     ]
    }
   ],
   "source": [
    "for k in adict.keys():\n",
    "    print(k)\n"
   ]
  },
  {
   "cell_type": "code",
   "execution_count": 77,
   "id": "8aeb7d88",
   "metadata": {},
   "outputs": [
    {
     "name": "stdout",
     "output_type": "stream",
     "text": [
      "0\n",
      "1\n",
      "2\n"
     ]
    }
   ],
   "source": [
    "for v in adict.values():\n",
    "    print(v)\n"
   ]
  },
  {
   "cell_type": "code",
   "execution_count": 78,
   "id": "54ceabe8",
   "metadata": {},
   "outputs": [
    {
     "name": "stdout",
     "output_type": "stream",
     "text": [
      "a / 0\n",
      "b / 1\n",
      "c / 2\n"
     ]
    }
   ],
   "source": [
    "for k, v in adict.items():\n",
    "    print(k, '/', v)\n"
   ]
  },
  {
   "cell_type": "markdown",
   "id": "763c85ed",
   "metadata": {},
   "source": [
    "## while文\n",
    "```\n",
    "while 条件式:\n",
    "    実行文\n",
    "```\n",
    "\n",
    "while文は、条件式が真の場合に実行文グループを繰り返します。\n",
    "\n",
    "条件式が偽の場合、実行文は実行されません。\n",
    "\n",
    "実行文内に、条件式が真から偽に変わる操作か、後述する制御構造によって繰り返しを抜けることがない場合、無限繰り返しとなります。\n",
    "\n",
    "***<ポイント>***\n",
    "\n",
    "while文の `:` の後に改行して、インデントして実行分を記述します。\n",
    "\n",
    "***<コードの説明>***\n",
    "\n",
    "1: while 条件式:\n",
    "\n",
    "2: <font color=\"red\">■■■■</font>実行文\n",
    "\n",
    "3: <font color=\"red\">■■■■</font>実行文\n",
    "\n"
   ]
  },
  {
   "cell_type": "code",
   "execution_count": 79,
   "id": "faeb2875",
   "metadata": {},
   "outputs": [
    {
     "name": "stdout",
     "output_type": "stream",
     "text": [
      "1\n",
      "2\n",
      "3\n"
     ]
    }
   ],
   "source": [
    "a = 0\n",
    "while a < 3:\n",
    "    a += 1\n",
    "    print(a)\n"
   ]
  },
  {
   "cell_type": "markdown",
   "id": "71e33344",
   "metadata": {},
   "source": [
    "## 制御構造\n",
    "for文やwhile文において、実行文の中に記述され、繰り返しの方法を制御することができます。"
   ]
  },
  {
   "cell_type": "markdown",
   "id": "058522dc",
   "metadata": {},
   "source": [
    "### break文\n",
    "繰り返しを途中で抜けることができます。"
   ]
  },
  {
   "cell_type": "code",
   "execution_count": 80,
   "id": "33f678ad",
   "metadata": {},
   "outputs": [
    {
     "name": "stdout",
     "output_type": "stream",
     "text": [
      "1\n",
      "2\n",
      "3\n"
     ]
    }
   ],
   "source": [
    "a = 0\n",
    "while a < 10:\n",
    "    a += 1\n",
    "    print(a)\n",
    "    if a >= 3:\n",
    "        break\n"
   ]
  },
  {
   "cell_type": "markdown",
   "id": "8e21b026",
   "metadata": {},
   "source": [
    "### continue文\n",
    "繰り返しの実行文をの途中で、次の繰り返しに移ることができます。"
   ]
  },
  {
   "cell_type": "code",
   "execution_count": 87,
   "id": "7ff44354",
   "metadata": {},
   "outputs": [
    {
     "name": "stdout",
     "output_type": "stream",
     "text": [
      "a\n",
      "a\n",
      "a\n",
      "2\n",
      "a\n",
      "3\n"
     ]
    }
   ],
   "source": [
    "for idx in range(4):\n",
    "    print('a')\n",
    "    if idx < 2:\n",
    "        continue\n",
    "    print(idx)\n"
   ]
  },
  {
   "cell_type": "markdown",
   "id": "d38234fd",
   "metadata": {},
   "source": [
    "# 関数"
   ]
  },
  {
   "cell_type": "markdown",
   "id": "702d70a3",
   "metadata": {
    "tags": []
   },
   "source": [
    "## 関数定義\n",
    "\n",
    "```\n",
    "def <関数名>(<引数の定義>):\n",
    "    <関数本体>\n",
    "```\n",
    "\n",
    "***<ポイント>***\n",
    "\n",
    "def文の `:` の後に改行して、インデントして実行分を記述します。\n",
    "\n",
    "関数本体の中にreturn文があると、返り値を返して関数を抜けます。\n",
    "\n",
    "***<コードの説明>***\n",
    "\n",
    "1: def <関数名>(<引数の定義>):\n",
    "\n",
    "2: <font color=\"red\">■■■■</font>関数本体文1\n",
    "\n",
    "3: <font color=\"red\">■■■■</font>関数本体文2\n",
    "\n"
   ]
  },
  {
   "cell_type": "code",
   "execution_count": 88,
   "id": "03b8b160",
   "metadata": {},
   "outputs": [],
   "source": [
    "def myfunc(aa, bb = 1, cc = 2):\n",
    "    print(aa, bb, cc)\n",
    "    return cc\n"
   ]
  },
  {
   "cell_type": "markdown",
   "id": "4ff0e923",
   "metadata": {},
   "source": [
    "## 関数の実行\n",
    "定義された関数は　\n",
    "\n",
    "```\n",
    "<関数名>(<引数の定義に対応した引数>)\n",
    "```\n",
    "\n",
    "として実行できる。\n",
    "\n",
    "以下のようにして、返り値を受け取る。\n",
    "\n",
    "```\n",
    "res = <関数名>(<引数の定義に対応した引数>)\n",
    "```\n"
   ]
  },
  {
   "cell_type": "code",
   "execution_count": 83,
   "id": "2e3c362e",
   "metadata": {},
   "outputs": [
    {
     "name": "stdout",
     "output_type": "stream",
     "text": [
      "0 1 2\n"
     ]
    },
    {
     "data": {
      "text/plain": [
       "2"
      ]
     },
     "execution_count": 83,
     "metadata": {},
     "output_type": "execute_result"
    }
   ],
   "source": [
    "myfunc(0)"
   ]
  },
  {
   "cell_type": "markdown",
   "id": "69187028",
   "metadata": {},
   "source": [
    "### 引数\n",
    "引数定義に従って、引数を渡すことができる。\n",
    "\n",
    "初期値が与えられていない引数は、必ず渡す必要がある。\n",
    "\n",
    "引数は、定義の順番に従って渡される。\n",
    "\n",
    "引数はキーワード渡し `(key = value)` することができる。この場合、順番には従わなくて構いません。"
   ]
  },
  {
   "cell_type": "code",
   "execution_count": 84,
   "id": "16760233",
   "metadata": {},
   "outputs": [
    {
     "name": "stdout",
     "output_type": "stream",
     "text": [
      "3 4 5\n"
     ]
    },
    {
     "data": {
      "text/plain": [
       "5"
      ]
     },
     "execution_count": 84,
     "metadata": {},
     "output_type": "execute_result"
    }
   ],
   "source": [
    "myfunc(3, 4, 5)"
   ]
  },
  {
   "cell_type": "code",
   "execution_count": 85,
   "id": "37ccc31f",
   "metadata": {},
   "outputs": [
    {
     "name": "stdout",
     "output_type": "stream",
     "text": [
      "10 1 20\n"
     ]
    },
    {
     "data": {
      "text/plain": [
       "20"
      ]
     },
     "execution_count": 85,
     "metadata": {},
     "output_type": "execute_result"
    }
   ],
   "source": [
    "myfunc(10, cc = 20)"
   ]
  },
  {
   "cell_type": "markdown",
   "id": "50a0f414",
   "metadata": {},
   "source": [
    "### 返り値\n",
    "return文がある場合、値が返されます。\n",
    "\n",
    "`<変数> = <関数名>(<引数>)`\n",
    "\n",
    "として返り値を受けとります。"
   ]
  },
  {
   "cell_type": "code",
   "execution_count": 86,
   "id": "6eed1759",
   "metadata": {},
   "outputs": [
    {
     "name": "stdout",
     "output_type": "stream",
     "text": [
      "0 1 2\n"
     ]
    },
    {
     "data": {
      "text/plain": [
       "2"
      ]
     },
     "execution_count": 86,
     "metadata": {},
     "output_type": "execute_result"
    }
   ],
   "source": [
    "dd = myfunc(0)\n",
    "dd"
   ]
  },
  {
   "cell_type": "markdown",
   "id": "ed3a2d06",
   "metadata": {},
   "source": [
    "# モジュールのインポート\n",
    "\n",
    "Pythonでは、関数、値やクラスをまとめたものをモジュールとして取り扱い、importして使います。\n",
    "\n",
    "```\n",
    "import <モジュール名> as <実際に使う名前>\n",
    "```\n",
    "\n",
    "- as以降は無くても良い\n",
    "\n",
    "```\n",
    "from <モジュール名> import <モジュール内の名前> as <実際に使う名前>\n",
    "```\n",
    "\n",
    "- as以降は無くても良い\n",
    "\n",
    "\n",
    "モジュールの作り方は本講義では扱いませんので、\n",
    "気になる方は\n",
    "[資料](https://utokyo-ipp.github.io/5/5-2.html)等を参考にしてください。\n",
    "\n",
    "\n",
    "本講義では、インポートの方法を利用者間で合わせたいと考えています。\n",
    "\n",
    "[このファイル](https://github.com/IRSL-tut/irsl_choreonoid/blob/main/sample/irsl_import.py)\n",
    "に記述したimportを使うことを強く推奨します。\n",
    "\n",
    "以下のようにすることで、ファイルに記述したのと同じ効果となります。\n",
    "\n",
    "```\n",
    "exec(open('/choreonoid_ws/install/share/irsl_choreonoid/sample/irsl_import.py').read())\n",
    "```\n",
    "\n"
   ]
  },
  {
   "cell_type": "markdown",
   "id": "5a0294cb",
   "metadata": {},
   "source": [
    "# クラス\n",
    "Pythonでは全てのデータはオブジェクトとなっています。（おおまかに言うと、変数に代入できるものはオブジェクト）\n",
    "\n",
    "文字列、リストや辞書型などは、プログラミング言語に事前に組み込まれているクラスです。\n",
    "\n",
    "オブジェクトは、クラス(型)のインスタンス（あるクラスの定義をもった実体のオブジェクト）です。\n",
    "\n",
    "これは、[オブジェクト指向プログラミング](https://ja.wikipedia.org/wiki/%E3%82%AA%E3%83%96%E3%82%B8%E3%82%A7%E3%82%AF%E3%83%88%E6%8C%87%E5%90%91)\n",
    "という、プログラミング言語の考え方の一つです。\n",
    "\n",
    "本講義では、ロボットプログラミング必要な以下について簡単に説明します。\n",
    "\n",
    "- クラス定義（型）\n",
    "\n",
    "- オブジェクトの作り方\n",
    "\n",
    "- オブジェクトの使い方\n"
   ]
  },
  {
   "cell_type": "markdown",
   "id": "b5cb7a05",
   "metadata": {},
   "source": [
    "## クラス定義\n",
    "クラス定義は以下のようになっています。\n",
    "\n",
    "本講義では、クラスを作れるようになる必要はありません。\n",
    "\n",
    "```\n",
    "class <クラス名>(<親クラス>):\n",
    "    def __init__(self, <コンストラクタ引数の定義>):\n",
    "        <コンストラクタ文>\n",
    "    def <メソッド名>(self, <引数の定義>):\n",
    "        <メソッド実行文>\n",
    "```\n"
   ]
  },
  {
   "cell_type": "markdown",
   "id": "09674705",
   "metadata": {},
   "source": [
    "## オブジェクトの作り方\n",
    "以下かのようにオブジェクト（クラスのインスタンス）を作ります。\n",
    "\n",
    "```\n",
    "obj = <クラス名>(<コンストラクタ引数>)\n",
    "```\n",
    "\n",
    "オブジェクトは、クラス定義において定義されたコンストラクタ文で作られます。\n",
    "\n",
    "オブジェクトは、クラス定義において定義されたメソッドを使うことができます。\n",
    "\n",
    "同じクラスのオブジェクトは複数個作ることができます。"
   ]
  },
  {
   "cell_type": "markdown",
   "id": "c4ec8f7d",
   "metadata": {},
   "source": [
    "## オブジェクトの使い方\n",
    "### メソッド\n",
    "オブジェクトは、以下のようにクラス定義において定義されたメソッドを使うことができます。\n",
    "\n",
    "```\n",
    "obj.<メソッド名>(<引数>)\n",
    "```\n",
    "\n",
    "この時に、クラス定義において定義された<メソッド実行文>が実行されます。\n",
    "\n",
    "### プロパティ\n",
    "オブジェクトは、以下のようにクラス定義において定義されたプロパティを使うことができます。\n",
    "\n",
    "プロパティは、変数のように使うことができます。\n",
    "\n",
    "```\n",
    "obj.<プロパティ名>\n",
    "```"
   ]
  },
  {
   "cell_type": "markdown",
   "id": "6c2a0a01",
   "metadata": {},
   "source": [
    "# 参照するドキュメント\n",
    "Pythonの標準で備わっている機能と、IRSLで作った部分のそれぞれで以下のドキュメントを参照してください。\n",
    "\n",
    "[Python標準](https://docs.python.org/ja/3/library/)\n",
    "\n",
    "[IRSL関連](https://irsl-tut.github.io/irsl_documents/ja/)"
   ]
  }
 ],
 "metadata": {
  "kernelspec": {
   "display_name": "Python 3",
   "language": "python",
   "name": "python3"
  },
  "language_info": {
   "codemirror_mode": {
    "name": "ipython",
    "version": 3
   },
   "file_extension": ".py",
   "mimetype": "text/x-python",
   "name": "python",
   "nbconvert_exporter": "python",
   "pygments_lexer": "ipython3",
   "version": "3.6.9"
  }
 },
 "nbformat": 4,
 "nbformat_minor": 5
}
