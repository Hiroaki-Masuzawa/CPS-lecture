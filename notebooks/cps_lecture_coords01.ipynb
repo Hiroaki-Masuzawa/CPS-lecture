{
 "cells": [
  {
   "cell_type": "markdown",
   "id": "005c9853",
   "metadata": {},
   "source": [
    "# リンク座標系"
   ]
  },
  {
   "cell_type": "code",
   "execution_count": 1,
   "id": "b04cfac8-c8cd-40b7-8064-991768de35ee",
   "metadata": {},
   "outputs": [],
   "source": [
    "exec(open('/choreonoid_ws/install/share/irsl_choreonoid/sample/irsl_import.py').read())"
   ]
  },
  {
   "cell_type": "markdown",
   "id": "974f084e",
   "metadata": {},
   "source": [
    "## 座標系の準備\n",
    "\n",
    "- 原点: org\n",
    "- 座標系1 : sigma1\n",
    "- 座標系2 : sigma2\n",
    "- 原点から座標系1への変換: T0_1 (原点座標系で表される)\n",
    "- 座標系1から座標系2への変換: T1_2 (1座標系で表される)\n",
    "- 座標系2からエンドエフェクタへの変換: T2_ee (2座標系で表される)"
   ]
  },
  {
   "cell_type": "code",
   "execution_count": 2,
   "id": "5ad1a541-6e8c-4d2b-8641-eb5a709fa1c1",
   "metadata": {},
   "outputs": [
    {
     "data": {
      "text/plain": [
       "<coordinates[0x55d775f39200] 0 0.5 0 / 0.382683 0 0 0.92388 >"
      ]
     },
     "execution_count": 2,
     "metadata": {},
     "output_type": "execute_result"
    }
   ],
   "source": [
    "org=coordinates()\n",
    "T0_1=coordinates(npa([0, 0.5, 0.5]))\n",
    "T1_2=coordinates(npa([0, 0.5, 0]))\n",
    "T1_2.rotate(PI/4, coordinates.X)\n",
    "T2_ee=coordinates(npa([0, 0.2, 0.2]))"
   ]
  },
  {
   "cell_type": "markdown",
   "id": "4bbeadbf",
   "metadata": {},
   "source": [
    "### 座標系1\n",
    "transformメソッドはオブジェクトを変更してしまうので、copy()メソッドを使って元の値のコピーを変更している。"
   ]
  },
  {
   "cell_type": "code",
   "execution_count": 3,
   "id": "7168ecfd-e9b9-49c0-8818-a5b4919cf5cf",
   "metadata": {},
   "outputs": [],
   "source": [
    "sigma1=org.copy().transform(T0_1)"
   ]
  },
  {
   "cell_type": "code",
   "execution_count": 4,
   "id": "04144877-db39-4105-a5c1-73ffc4bb7e09",
   "metadata": {},
   "outputs": [
    {
     "data": {
      "text/plain": [
       "<coordinates[0x55d775eec570] 0 0.5 0.5 / 0 0 0 1 >"
      ]
     },
     "execution_count": 4,
     "metadata": {},
     "output_type": "execute_result"
    }
   ],
   "source": [
    "sigma1"
   ]
  },
  {
   "cell_type": "markdown",
   "id": "1ed48d76",
   "metadata": {},
   "source": [
    "### 座標系2"
   ]
  },
  {
   "cell_type": "code",
   "execution_count": 5,
   "id": "aa259561-5bf2-4ac2-8aac-90cba6bd8838",
   "metadata": {},
   "outputs": [],
   "source": [
    "sigma2=sigma1.copy().transform(T1_2)"
   ]
  },
  {
   "cell_type": "code",
   "execution_count": 6,
   "id": "d9dd2325-b805-400d-82a3-f6283c467986",
   "metadata": {},
   "outputs": [
    {
     "data": {
      "text/plain": [
       "<coordinates[0x55d773754f40] 0 1 0.5 / 0.382683 0 0 0.92388 >"
      ]
     },
     "execution_count": 6,
     "metadata": {},
     "output_type": "execute_result"
    }
   ],
   "source": [
    "sigma2"
   ]
  },
  {
   "cell_type": "markdown",
   "id": "bdd20dd4",
   "metadata": {},
   "source": [
    "### エンドエフェクタ"
   ]
  },
  {
   "cell_type": "code",
   "execution_count": 7,
   "id": "7b66454e-83a2-40d5-ae2c-8a1cef441267",
   "metadata": {},
   "outputs": [],
   "source": [
    "sigmaEE=sigma2.copy().transform(T2_ee)"
   ]
  },
  {
   "cell_type": "code",
   "execution_count": 8,
   "id": "cac5391c-ef9f-467b-8fd9-4ffba2ef6353",
   "metadata": {},
   "outputs": [
    {
     "data": {
      "text/plain": [
       "<coordinates[0x55d775d58300] 0 1 0.782843 / 0.382683 0 0 0.92388 >"
      ]
     },
     "execution_count": 8,
     "metadata": {},
     "output_type": "execute_result"
    }
   ],
   "source": [
    "sigmaEE"
   ]
  },
  {
   "cell_type": "markdown",
   "id": "f27bebde",
   "metadata": {},
   "source": [
    "## 座標系の表示"
   ]
  },
  {
   "cell_type": "code",
   "execution_count": 9,
   "id": "68e670c8-5a84-4eb5-a8be-ba8c2489bf95",
   "metadata": {},
   "outputs": [],
   "source": [
    "dc = DrawCoords(length=0.4, width=5)"
   ]
  },
  {
   "cell_type": "code",
   "execution_count": 10,
   "id": "34ca1d44-ba6c-4e6a-8a6d-ae6f94d09826",
   "metadata": {},
   "outputs": [
    {
     "data": {
      "text/plain": [
       "1"
      ]
     },
     "execution_count": 10,
     "metadata": {},
     "output_type": "execute_result"
    }
   ],
   "source": [
    "dc.addCoords(coordinates())"
   ]
  },
  {
   "cell_type": "code",
   "execution_count": 11,
   "id": "0d8d20d1-a85b-4e71-8491-47a3e3587c9a",
   "metadata": {},
   "outputs": [
    {
     "data": {
      "text/plain": [
       "2"
      ]
     },
     "execution_count": 11,
     "metadata": {},
     "output_type": "execute_result"
    }
   ],
   "source": [
    "dc.addCoords(sigma1)"
   ]
  },
  {
   "cell_type": "code",
   "execution_count": 12,
   "id": "1ee6c1e8-bf23-4601-a1b5-c0e6eb055436",
   "metadata": {},
   "outputs": [
    {
     "data": {
      "text/plain": [
       "3"
      ]
     },
     "execution_count": 12,
     "metadata": {},
     "output_type": "execute_result"
    }
   ],
   "source": [
    "dc.addCoords(sigma2)"
   ]
  },
  {
   "cell_type": "code",
   "execution_count": 13,
   "id": "e883ed36-897b-49f2-8879-4134e7d1c520",
   "metadata": {},
   "outputs": [
    {
     "data": {
      "text/plain": [
       "4"
      ]
     },
     "execution_count": 13,
     "metadata": {},
     "output_type": "execute_result"
    }
   ],
   "source": [
    "dc.addCoords(sigmaEE)"
   ]
  },
  {
   "cell_type": "code",
   "execution_count": 14,
   "id": "447d7df8",
   "metadata": {},
   "outputs": [
    {
     "data": {
      "image/png": "[encoded data removed]"
     },
     "execution_count": 14,
     "metadata": {},
     "output_type": "execute_result"
    }
   ],
   "source": [
    "%display"
   ]
  },
  {
   "cell_type": "markdown",
   "id": "5ec1384b",
   "metadata": {},
   "source": [
    "## 練習問題\n",
    "sigma1を動かして、sigmaEEがorgと一致するようにしてみよう\n",
    "\n",
    "(ここでは、原点からの座標系1の変換 T0_1 のみを変更する)"
   ]
  },
  {
   "cell_type": "code",
   "execution_count": 15,
   "id": "44dedc7a-9a90-49db-861d-a82d04f92798",
   "metadata": {},
   "outputs": [],
   "source": [
    "T1_ee=sigma1.transformation(sigmaEE)"
   ]
  },
  {
   "cell_type": "code",
   "execution_count": 16,
   "id": "bdfecd7d-e711-4fe0-8abb-d282ded04293",
   "metadata": {},
   "outputs": [
    {
     "data": {
      "text/plain": [
       "<coordinates[0x55d774051230] 0 0.5 0.282843 / 0.382683 0 0 0.92388 >"
      ]
     },
     "execution_count": 16,
     "metadata": {},
     "output_type": "execute_result"
    }
   ],
   "source": [
    "T1_ee"
   ]
  },
  {
   "cell_type": "markdown",
   "id": "95bb99af",
   "metadata": {},
   "source": [
    "解答の計算"
   ]
  },
  {
   "cell_type": "code",
   "execution_count": 17,
   "id": "1be08540-58dd-4e84-9bb0-21369e77cbe0",
   "metadata": {},
   "outputs": [],
   "source": [
    "T0_1=T1_ee.inverse_transformation()"
   ]
  },
  {
   "cell_type": "markdown",
   "id": "b6514e8b",
   "metadata": {},
   "source": [
    "解答を使った座標系の計算"
   ]
  },
  {
   "cell_type": "code",
   "execution_count": 18,
   "id": "4580a0c1-eea6-45c6-8ed7-a25b4499c419",
   "metadata": {},
   "outputs": [],
   "source": [
    "sigma1=org.copy().transform(T0_1)"
   ]
  },
  {
   "cell_type": "code",
   "execution_count": 19,
   "id": "19f008ab-7777-435e-b962-935a5b0b95db",
   "metadata": {},
   "outputs": [],
   "source": [
    "sigma2=sigma1.copy().transform(T1_2)"
   ]
  },
  {
   "cell_type": "code",
   "execution_count": 20,
   "id": "aca6540e-444f-4444-99e0-b5b50b4c68fb",
   "metadata": {},
   "outputs": [],
   "source": [
    "sigmaEE=sigma2.copy().transform(T2_ee)"
   ]
  },
  {
   "cell_type": "markdown",
   "id": "7e424d99",
   "metadata": {},
   "source": [
    "エンドエフェクタ位置の確認"
   ]
  },
  {
   "cell_type": "code",
   "execution_count": 24,
   "id": "127c45e0-ab4b-40a3-9514-01250b9cb2fe",
   "metadata": {},
   "outputs": [
    {
     "data": {
      "text/plain": [
       "<coordinates[0x55d7760797c0] 0 0 5.55112e-17 / 0 0 0 1 >"
      ]
     },
     "execution_count": 24,
     "metadata": {},
     "output_type": "execute_result"
    }
   ],
   "source": [
    "sigmaEE"
   ]
  },
  {
   "cell_type": "markdown",
   "id": "c2c5653c",
   "metadata": {},
   "source": [
    "解答の表示"
   ]
  },
  {
   "cell_type": "code",
   "execution_count": 25,
   "id": "2ee86bee-5279-481b-98e6-15e26acf0ba1",
   "metadata": {},
   "outputs": [],
   "source": [
    "dc.clear()"
   ]
  },
  {
   "cell_type": "code",
   "execution_count": 26,
   "id": "8eb3a659-d280-41fe-9c5e-93312bdf69c1",
   "metadata": {},
   "outputs": [
    {
     "data": {
      "text/plain": [
       "1"
      ]
     },
     "execution_count": 26,
     "metadata": {},
     "output_type": "execute_result"
    }
   ],
   "source": [
    "dc.addCoords(sigmaEE)"
   ]
  },
  {
   "cell_type": "code",
   "execution_count": 27,
   "id": "79afb91f-b22f-45d8-9e5c-78da0f853632",
   "metadata": {},
   "outputs": [
    {
     "data": {
      "text/plain": [
       "2"
      ]
     },
     "execution_count": 27,
     "metadata": {},
     "output_type": "execute_result"
    }
   ],
   "source": [
    "dc.addCoords(sigma2)"
   ]
  },
  {
   "cell_type": "code",
   "execution_count": 28,
   "id": "58d6e18f-1d46-4f02-ad95-d10e68f084fc",
   "metadata": {},
   "outputs": [
    {
     "data": {
      "text/plain": [
       "3"
      ]
     },
     "execution_count": 28,
     "metadata": {},
     "output_type": "execute_result"
    }
   ],
   "source": [
    "dc.addCoords(sigma1)"
   ]
  },
  {
   "cell_type": "code",
   "execution_count": 29,
   "id": "b4672db5",
   "metadata": {},
   "outputs": [
    {
     "data": {
      "image/png": "[encoded data removed]"
     },
     "execution_count": 29,
     "metadata": {},
     "output_type": "execute_result"
    }
   ],
   "source": [
    "%display"
   ]
  },
  {
   "cell_type": "markdown",
   "id": "7bcd75c0",
   "metadata": {},
   "source": [
    "### 練習問題の別解\n",
    "\n",
    "DrawCoordsの原点を移動させて同様な表示となるか確認する。"
   ]
  },
  {
   "cell_type": "code",
   "execution_count": 30,
   "id": "6cd90d66-23fc-4220-bdd6-2f9b5b51c6e7",
   "metadata": {},
   "outputs": [],
   "source": [
    "dc1 = DrawCoords(length=0.3, width=8)"
   ]
  },
  {
   "cell_type": "code",
   "execution_count": 31,
   "id": "1981cd5e-6d87-48be-a50a-297a20892ac4",
   "metadata": {},
   "outputs": [
    {
     "data": {
      "text/plain": [
       "1"
      ]
     },
     "execution_count": 31,
     "metadata": {},
     "output_type": "execute_result"
    }
   ],
   "source": [
    "sigma1=coordinates()\n",
    "dc1.addCoords(sigma1)"
   ]
  },
  {
   "cell_type": "code",
   "execution_count": 32,
   "id": "3f1e3369-01dd-47cd-9b36-579fbb8dde23",
   "metadata": {},
   "outputs": [
    {
     "data": {
      "text/plain": [
       "2"
      ]
     },
     "execution_count": 32,
     "metadata": {},
     "output_type": "execute_result"
    }
   ],
   "source": [
    "sigma2=sigma1.copy().transform(T1_2)\n",
    "dc1.addCoords(sigma2)"
   ]
  },
  {
   "cell_type": "code",
   "execution_count": 33,
   "id": "390b0286-a940-439a-8eec-ce322d3a6934",
   "metadata": {},
   "outputs": [
    {
     "data": {
      "text/plain": [
       "3"
      ]
     },
     "execution_count": 33,
     "metadata": {},
     "output_type": "execute_result"
    }
   ],
   "source": [
    "sigmaEE=sigma2.copy().transform(T2_ee)\n",
    "dc1.addCoords(sigmaEE)"
   ]
  },
  {
   "cell_type": "code",
   "execution_count": 34,
   "id": "fe47c2ec",
   "metadata": {},
   "outputs": [
    {
     "data": {
      "image/png": "[encoded data removed]"
     },
     "execution_count": 34,
     "metadata": {},
     "output_type": "execute_result"
    }
   ],
   "source": [
    "%display"
   ]
  },
  {
   "cell_type": "markdown",
   "id": "923d6f09",
   "metadata": {},
   "source": [
    "座標系を動かしてみる"
   ]
  },
  {
   "cell_type": "code",
   "execution_count": 35,
   "id": "3d7035d8-3317-4672-8f50-e067a926c5f5",
   "metadata": {},
   "outputs": [
    {
     "data": {
      "text/plain": [
       "Wrap <class 'irsl_choreonoid.draw_coords.DrawCoordsListWrapped'> : <coordinates[0x55d775eec570] 0 0 0.5 / 0 0 0 1 >"
      ]
     },
     "execution_count": 35,
     "metadata": {},
     "output_type": "execute_result"
    }
   ],
   "source": [
    "dc1.translate(npa([0,0,0.5]))"
   ]
  },
  {
   "cell_type": "code",
   "execution_count": 36,
   "id": "00a96d4a-4e57-46de-b81b-527893b3007a",
   "metadata": {},
   "outputs": [
    {
     "data": {
      "text/plain": [
       "Wrap <class 'irsl_choreonoid.draw_coords.DrawCoordsListWrapped'> : <coordinates[0x55d775eec570] 0 0 0.5 / -0.258819 0 0 0.965926 >"
      ]
     },
     "execution_count": 36,
     "metadata": {},
     "output_type": "execute_result"
    }
   ],
   "source": [
    "dc1.rotate(-PI/6, coordinates.X)"
   ]
  },
  {
   "cell_type": "markdown",
   "id": "aee768cb",
   "metadata": {},
   "source": [
    "この時のエンドエフェクタの位置"
   ]
  },
  {
   "cell_type": "code",
   "execution_count": 37,
   "id": "c216ee4b-7955-434c-ad32-979f5a697c18",
   "metadata": {},
   "outputs": [
    {
     "data": {
      "text/plain": [
       "<coordinates[0x55d775f8a540] 0 0.574434 0.494949 / 0.130526 0 0 0.991445 >"
      ]
     },
     "execution_count": 37,
     "metadata": {},
     "output_type": "execute_result"
    }
   ],
   "source": [
    "dc1.copy().transform(T1_ee)"
   ]
  },
  {
   "cell_type": "markdown",
   "id": "f03c65b1",
   "metadata": {},
   "source": [
    "解答の確認"
   ]
  },
  {
   "cell_type": "code",
   "execution_count": 38,
   "id": "6c6b56f5-07b0-4686-9520-dd1fafe588f3",
   "metadata": {},
   "outputs": [
    {
     "data": {
      "text/plain": [
       "Wrap <class 'irsl_choreonoid.draw_coords.DrawCoordsListWrapped'> : <coordinates[0x55d775eec570] -0 -0.553553 0.153553 / -0.382683 0 0 0.92388 >"
      ]
     },
     "execution_count": 38,
     "metadata": {},
     "output_type": "execute_result"
    }
   ],
   "source": [
    "dc1.newcoords(T0_1)"
   ]
  },
  {
   "cell_type": "markdown",
   "id": "6fd8ec32",
   "metadata": {},
   "source": [
    "エンドエフェクタ位置の確認"
   ]
  },
  {
   "cell_type": "code",
   "execution_count": 39,
   "id": "b2619d8e-c4d4-42dc-8aa1-8331007dfa34",
   "metadata": {},
   "outputs": [
    {
     "data": {
      "text/plain": [
       "<coordinates[0x55d77601c760] 0 0 0 / 0 0 0 1 >"
      ]
     },
     "execution_count": 39,
     "metadata": {},
     "output_type": "execute_result"
    }
   ],
   "source": [
    "dc1.copy().transform(T1_ee)"
   ]
  },
  {
   "cell_type": "code",
   "execution_count": 40,
   "id": "3abefd16",
   "metadata": {},
   "outputs": [
    {
     "data": {
      "image/png": "[encoded data removed]"
     },
     "execution_count": 40,
     "metadata": {},
     "output_type": "execute_result"
    }
   ],
   "source": [
    "%display"
   ]
  },
  {
   "cell_type": "code",
   "execution_count": null,
   "id": "ebb00783-b259-4ec4-8028-73f170745b7a",
   "metadata": {},
   "outputs": [],
   "source": []
  }
 ],
 "metadata": {
  "kernelspec": {
   "display_name": "Robot Programming",
   "language": "python",
   "name": "roboprog"
  },
  "language_info": {
   "codemirror_mode": "",
   "file_extension": ".py",
   "mimetype": "text/x-python",
   "name": "python",
   "nbconvert_exporter": "",
   "pygments_lexer": "",
   "version": "3.7"
  }
 },
 "nbformat": 4,
 "nbformat_minor": 5
}
