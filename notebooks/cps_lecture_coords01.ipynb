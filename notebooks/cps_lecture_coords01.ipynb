{
 "cells": [
  {
   "cell_type": "markdown",
   "id": "005c9853",
   "metadata": {},
   "source": [
    "# リンク座標系"
   ]
  },
  {
   "cell_type": "code",
   "execution_count": 1,
   "id": "b04cfac8-c8cd-40b7-8064-991768de35ee",
   "metadata": {},
   "outputs": [],
   "source": [
    "exec(open('/choreonoid_ws/install/share/irsl_choreonoid/sample/irsl_import.py').read())"
   ]
  },
  {
   "cell_type": "markdown",
   "id": "974f084e",
   "metadata": {},
   "source": [
    "## 座標系の準備"
   ]
  },
  {
   "cell_type": "code",
   "execution_count": 2,
   "id": "5ad1a541-6e8c-4d2b-8641-eb5a709fa1c1",
   "metadata": {},
   "outputs": [
    {
     "data": {
      "text/plain": [
       "<coordinates[0x55c1e22fcd60] 0 0.5 0 / 0.382683 0 0 0.92388 >"
      ]
     },
     "execution_count": 2,
     "metadata": {},
     "output_type": "execute_result"
    }
   ],
   "source": [
    "org=coordinates()\n",
    "T0_1=coordinates(npa([0, 0.5, 0.5]))\n",
    "T1_2=coordinates(npa([0, 0.5, 0]))\n",
    "T1_2.rotate(PI/4, npa([1, 0, 0]))\n",
    "T2_ee=coordinates(npa([0, 0.2, 0.2]))"
   ]
  },
  {
   "cell_type": "markdown",
   "id": "4bbeadbf",
   "metadata": {},
   "source": [
    "### 座標系1"
   ]
  },
  {
   "cell_type": "code",
   "execution_count": 3,
   "id": "7168ecfd-e9b9-49c0-8818-a5b4919cf5cf",
   "metadata": {},
   "outputs": [],
   "source": [
    "sigma1=org.copy().transform(T0_1)"
   ]
  },
  {
   "cell_type": "code",
   "execution_count": 4,
   "id": "04144877-db39-4105-a5c1-73ffc4bb7e09",
   "metadata": {},
   "outputs": [
    {
     "data": {
      "text/plain": [
       "<coordinates[0x55c1e23dcda0] 0 0.5 0.5 / 0 0 0 1 >"
      ]
     },
     "execution_count": 4,
     "metadata": {},
     "output_type": "execute_result"
    }
   ],
   "source": [
    "sigma1"
   ]
  },
  {
   "cell_type": "markdown",
   "id": "1ed48d76",
   "metadata": {},
   "source": [
    "### 座標系2"
   ]
  },
  {
   "cell_type": "code",
   "execution_count": 5,
   "id": "aa259561-5bf2-4ac2-8aac-90cba6bd8838",
   "metadata": {},
   "outputs": [],
   "source": [
    "sigma2=sigma1.copy().transform(T1_2)"
   ]
  },
  {
   "cell_type": "code",
   "execution_count": 6,
   "id": "d9dd2325-b805-400d-82a3-f6283c467986",
   "metadata": {},
   "outputs": [
    {
     "data": {
      "text/plain": [
       "<coordinates[0x55c1e22aa8b0] 0 1 0.5 / 0.382683 0 0 0.92388 >"
      ]
     },
     "execution_count": 6,
     "metadata": {},
     "output_type": "execute_result"
    }
   ],
   "source": [
    "sigma2"
   ]
  },
  {
   "cell_type": "markdown",
   "id": "bdd20dd4",
   "metadata": {},
   "source": [
    "### エンドエフェクタ"
   ]
  },
  {
   "cell_type": "code",
   "execution_count": 7,
   "id": "7b66454e-83a2-40d5-ae2c-8a1cef441267",
   "metadata": {},
   "outputs": [],
   "source": [
    "sigmaEE=sigma2.copy().transform(T2_ee)"
   ]
  },
  {
   "cell_type": "code",
   "execution_count": 8,
   "id": "cac5391c-ef9f-467b-8fd9-4ffba2ef6353",
   "metadata": {},
   "outputs": [
    {
     "data": {
      "text/plain": [
       "<coordinates[0x55c1e2349390] 0 1 0.782843 / 0.382683 0 0 0.92388 >"
      ]
     },
     "execution_count": 8,
     "metadata": {},
     "output_type": "execute_result"
    }
   ],
   "source": [
    "sigmaEE"
   ]
  },
  {
   "cell_type": "markdown",
   "id": "f27bebde",
   "metadata": {},
   "source": [
    "## 座標系の表示"
   ]
  },
  {
   "cell_type": "code",
   "execution_count": 9,
   "id": "68e670c8-5a84-4eb5-a8be-ba8c2489bf95",
   "metadata": {},
   "outputs": [],
   "source": [
    "dc = DrawCoords(length=0.4, width=5)"
   ]
  },
  {
   "cell_type": "code",
   "execution_count": 13,
   "id": "34ca1d44-ba6c-4e6a-8a6d-ae6f94d09826",
   "metadata": {},
   "outputs": [
    {
     "data": {
      "text/plain": [
       "4"
      ]
     },
     "execution_count": 13,
     "metadata": {},
     "output_type": "execute_result"
    }
   ],
   "source": [
    "dc.addCoords(coordinates())"
   ]
  },
  {
   "cell_type": "code",
   "execution_count": 10,
   "id": "0d8d20d1-a85b-4e71-8491-47a3e3587c9a",
   "metadata": {},
   "outputs": [
    {
     "data": {
      "text/plain": [
       "1"
      ]
     },
     "execution_count": 10,
     "metadata": {},
     "output_type": "execute_result"
    }
   ],
   "source": [
    "dc.addCoords(sigma1)"
   ]
  },
  {
   "cell_type": "code",
   "execution_count": 11,
   "id": "1ee6c1e8-bf23-4601-a1b5-c0e6eb055436",
   "metadata": {},
   "outputs": [
    {
     "data": {
      "text/plain": [
       "2"
      ]
     },
     "execution_count": 11,
     "metadata": {},
     "output_type": "execute_result"
    }
   ],
   "source": [
    "dc.addCoords(sigma2)"
   ]
  },
  {
   "cell_type": "code",
   "execution_count": 12,
   "id": "e883ed36-897b-49f2-8879-4134e7d1c520",
   "metadata": {},
   "outputs": [
    {
     "data": {
      "text/plain": [
       "3"
      ]
     },
     "execution_count": 12,
     "metadata": {},
     "output_type": "execute_result"
    }
   ],
   "source": [
    "dc.addCoords(sigmaEE)"
   ]
  },
  {
   "cell_type": "code",
   "execution_count": 14,
   "id": "447d7df8",
   "metadata": {},
   "outputs": [
    {
     "data": {
      "image/png": "[encoded data removed]"
     },
     "execution_count": 14,
     "metadata": {},
     "output_type": "execute_result"
    }
   ],
   "source": [
    "%display"
   ]
  },
  {
   "cell_type": "markdown",
   "id": "5ec1384b",
   "metadata": {},
   "source": [
    "## 練習問題\n",
    "sigma1を動かして、sigmaEEがorgと一致するようにしてみよう\n",
    "\n",
    "(ここでは、T0_1のみを変更する)"
   ]
  },
  {
   "cell_type": "code",
   "execution_count": 15,
   "id": "44dedc7a-9a90-49db-861d-a82d04f92798",
   "metadata": {},
   "outputs": [],
   "source": [
    "T1_ee=sigma1.transformation(sigmaEE)"
   ]
  },
  {
   "cell_type": "code",
   "execution_count": 16,
   "id": "bdfecd7d-e711-4fe0-8abb-d282ded04293",
   "metadata": {},
   "outputs": [
    {
     "data": {
      "text/plain": [
       "<coordinates[0x55c1e0a8dfb0] 0 0.5 0.282843 / 0.382683 0 0 0.92388 >"
      ]
     },
     "execution_count": 16,
     "metadata": {},
     "output_type": "execute_result"
    }
   ],
   "source": [
    "T1_ee"
   ]
  },
  {
   "cell_type": "code",
   "execution_count": 17,
   "id": "1be08540-58dd-4e84-9bb0-21369e77cbe0",
   "metadata": {},
   "outputs": [],
   "source": [
    "T0_1=T1_ee.inverse_transformation()"
   ]
  },
  {
   "cell_type": "code",
   "execution_count": 18,
   "id": "4580a0c1-eea6-45c6-8ed7-a25b4499c419",
   "metadata": {},
   "outputs": [],
   "source": [
    "sigma1=org.copy().transform(T0_1)"
   ]
  },
  {
   "cell_type": "code",
   "execution_count": 19,
   "id": "19f008ab-7777-435e-b962-935a5b0b95db",
   "metadata": {},
   "outputs": [],
   "source": [
    "sigma2=sigma1.copy().transform(T1_2)"
   ]
  },
  {
   "cell_type": "code",
   "execution_count": 20,
   "id": "aca6540e-444f-4444-99e0-b5b50b4c68fb",
   "metadata": {},
   "outputs": [],
   "source": [
    "sigmaEE=sigma2.copy().transform(T2_ee)"
   ]
  },
  {
   "cell_type": "code",
   "execution_count": 21,
   "id": "127c45e0-ab4b-40a3-9514-01250b9cb2fe",
   "metadata": {},
   "outputs": [
    {
     "data": {
      "text/plain": [
       "<coordinates[0x55c1e22c9340] 0 0 5.55112e-17 / 0 0 0 1 >"
      ]
     },
     "execution_count": 21,
     "metadata": {},
     "output_type": "execute_result"
    }
   ],
   "source": [
    "sigmaEE"
   ]
  },
  {
   "cell_type": "code",
   "execution_count": 22,
   "id": "2ee86bee-5279-481b-98e6-15e26acf0ba1",
   "metadata": {},
   "outputs": [],
   "source": [
    "dc.reset()"
   ]
  },
  {
   "cell_type": "code",
   "execution_count": 23,
   "id": "8eb3a659-d280-41fe-9c5e-93312bdf69c1",
   "metadata": {},
   "outputs": [
    {
     "data": {
      "text/plain": [
       "1"
      ]
     },
     "execution_count": 23,
     "metadata": {},
     "output_type": "execute_result"
    }
   ],
   "source": [
    "dc.addCoords(sigmaEE)"
   ]
  },
  {
   "cell_type": "code",
   "execution_count": 24,
   "id": "79afb91f-b22f-45d8-9e5c-78da0f853632",
   "metadata": {},
   "outputs": [
    {
     "data": {
      "text/plain": [
       "2"
      ]
     },
     "execution_count": 24,
     "metadata": {},
     "output_type": "execute_result"
    }
   ],
   "source": [
    "dc.addCoords(sigma2)"
   ]
  },
  {
   "cell_type": "code",
   "execution_count": 25,
   "id": "58d6e18f-1d46-4f02-ad95-d10e68f084fc",
   "metadata": {},
   "outputs": [
    {
     "data": {
      "text/plain": [
       "3"
      ]
     },
     "execution_count": 25,
     "metadata": {},
     "output_type": "execute_result"
    }
   ],
   "source": [
    "dc.addCoords(sigma1)"
   ]
  },
  {
   "cell_type": "markdown",
   "id": "7bcd75c0",
   "metadata": {},
   "source": [
    "### 練習問題の別解"
   ]
  },
  {
   "cell_type": "code",
   "execution_count": 26,
   "id": "6cd90d66-23fc-4220-bdd6-2f9b5b51c6e7",
   "metadata": {},
   "outputs": [],
   "source": [
    "dc1 = DrawCoords(length=0.3, width=8)"
   ]
  },
  {
   "cell_type": "code",
   "execution_count": 27,
   "id": "1981cd5e-6d87-48be-a50a-297a20892ac4",
   "metadata": {},
   "outputs": [
    {
     "data": {
      "text/plain": [
       "1"
      ]
     },
     "execution_count": 27,
     "metadata": {},
     "output_type": "execute_result"
    }
   ],
   "source": [
    "sigma1=coordinates()\n",
    "dc1.addCoords(sigma1)"
   ]
  },
  {
   "cell_type": "code",
   "execution_count": 28,
   "id": "3f1e3369-01dd-47cd-9b36-579fbb8dde23",
   "metadata": {},
   "outputs": [
    {
     "data": {
      "text/plain": [
       "2"
      ]
     },
     "execution_count": 28,
     "metadata": {},
     "output_type": "execute_result"
    }
   ],
   "source": [
    "sigma2=sigma1.copy().transform(T1_2)\n",
    "dc1.addCoords(sigma2)"
   ]
  },
  {
   "cell_type": "code",
   "execution_count": 29,
   "id": "390b0286-a940-439a-8eec-ce322d3a6934",
   "metadata": {},
   "outputs": [
    {
     "data": {
      "text/plain": [
       "3"
      ]
     },
     "execution_count": 29,
     "metadata": {},
     "output_type": "execute_result"
    }
   ],
   "source": [
    "sigmaEE=sigma2.copy().transform(T2_ee)\n",
    "dc1.addCoords(sigmaEE)"
   ]
  },
  {
   "cell_type": "code",
   "execution_count": 30,
   "id": "3d7035d8-3317-4672-8f50-e067a926c5f5",
   "metadata": {},
   "outputs": [
    {
     "data": {
      "text/plain": [
       "Wrap <class 'irsl_choreonoid.draw_coords.DrawCoordsListWrapped'> : <coordinates[0x55c1e05320c0] 0 0 0.5 / 0 0 0 1 >"
      ]
     },
     "execution_count": 30,
     "metadata": {},
     "output_type": "execute_result"
    }
   ],
   "source": [
    "dc1.translate(npa([0,0,0.5]))"
   ]
  },
  {
   "cell_type": "code",
   "execution_count": 31,
   "id": "00a96d4a-4e57-46de-b81b-527893b3007a",
   "metadata": {},
   "outputs": [
    {
     "data": {
      "text/plain": [
       "Wrap <class 'irsl_choreonoid.draw_coords.DrawCoordsListWrapped'> : <coordinates[0x55c1e05320c0] 0 0 0.5 / -0.258819 0 0 0.965926 >"
      ]
     },
     "execution_count": 31,
     "metadata": {},
     "output_type": "execute_result"
    }
   ],
   "source": [
    "dc1.rotate(-PI/6, npa([1,0,0]))"
   ]
  },
  {
   "cell_type": "code",
   "execution_count": 32,
   "id": "c216ee4b-7955-434c-ad32-979f5a697c18",
   "metadata": {},
   "outputs": [
    {
     "data": {
      "text/plain": [
       "<coordinates[0x55c1e0a9e000] 0 0.574434 0.494949 / 0.130526 0 0 0.991445 >"
      ]
     },
     "execution_count": 32,
     "metadata": {},
     "output_type": "execute_result"
    }
   ],
   "source": [
    "dc1.copy().transform(T1_ee)"
   ]
  },
  {
   "cell_type": "code",
   "execution_count": 33,
   "id": "6c6b56f5-07b0-4686-9520-dd1fafe588f3",
   "metadata": {},
   "outputs": [
    {
     "data": {
      "text/plain": [
       "Wrap <class 'irsl_choreonoid.draw_coords.DrawCoordsListWrapped'> : <coordinates[0x55c1e05320c0] -0 -0.553553 0.153553 / -0.382683 0 0 0.92388 >"
      ]
     },
     "execution_count": 33,
     "metadata": {},
     "output_type": "execute_result"
    }
   ],
   "source": [
    "dc1.newcoords(T0_1)"
   ]
  },
  {
   "cell_type": "code",
   "execution_count": 34,
   "id": "b2619d8e-c4d4-42dc-8aa1-8331007dfa34",
   "metadata": {},
   "outputs": [
    {
     "data": {
      "text/plain": [
       "<coordinates[0x55c1e0a9e000] 0 0 0 / 0 0 0 1 >"
      ]
     },
     "execution_count": 34,
     "metadata": {},
     "output_type": "execute_result"
    }
   ],
   "source": [
    "dc1.copy().transform(T1_ee)"
   ]
  },
  {
   "cell_type": "code",
   "execution_count": null,
   "id": "276e28bb-d839-43d9-946d-56ab50300e10",
   "metadata": {},
   "outputs": [],
   "source": []
  }
 ],
 "metadata": {
  "kernelspec": {
   "display_name": "Robot Programming",
   "language": "python",
   "name": "roboprog"
  },
  "language_info": {
   "codemirror_mode": "",
   "file_extension": ".py",
   "mimetype": "text/x-python",
   "name": "python",
   "nbconvert_exporter": "",
   "pygments_lexer": "",
   "version": "3.7"
  }
 },
 "nbformat": 4,
 "nbformat_minor": 5
}
