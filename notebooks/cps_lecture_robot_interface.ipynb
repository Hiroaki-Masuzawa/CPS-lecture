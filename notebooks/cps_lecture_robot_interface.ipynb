{
 "cells": [
  {
   "cell_type": "markdown",
   "id": "7e63c11a",
   "metadata": {},
   "source": [
    "# RobotInterfaceの使い方"
   ]
  },
  {
   "cell_type": "code",
   "execution_count": 1,
   "id": "ef1202ec-6a72-40e8-b65a-c09d4468e221",
   "metadata": {},
   "outputs": [],
   "source": [
    "exec(open('/choreonoid_ws/install/share/irsl_choreonoid/sample/irsl_import.py').read())"
   ]
  },
  {
   "cell_type": "markdown",
   "id": "24492982",
   "metadata": {},
   "source": [
    "## インターフェースの初期化"
   ]
  },
  {
   "cell_type": "code",
   "execution_count": 2,
   "id": "b93d734b-3ff3-4872-b132-7c0c037ab4d0",
   "metadata": {},
   "outputs": [],
   "source": [
    "ri = RobotInterface('/userdir/robotinterface.yaml', connection_wait=3.0)"
   ]
  },
  {
   "cell_type": "markdown",
   "id": "26d80227",
   "metadata": {},
   "source": [
    "## インターフェースのロボットモデルを使う\n",
    "- クラスを登録しておくと良い\n",
    "- クラス化が無ければ、都度register(end-effector, pose)する"
   ]
  },
  {
   "cell_type": "markdown",
   "id": "684655bf",
   "metadata": {},
   "source": [
    "関節全体を'arm'として登録している。'joint2'は終端のジョイントになります。\n",
    "\n",
    "robotオブジェクトは「ロボットモデルの使い方」で説明したものと同じです。"
   ]
  },
  {
   "cell_type": "code",
   "execution_count": null,
   "id": "5ebcfe24",
   "metadata": {},
   "outputs": [],
   "source": [
    "robot = ri.getRobotModel()\n",
    "robot.registerEndEffector('arm', 'joint2', joint_list=m.jointNames)"
   ]
  },
  {
   "cell_type": "markdown",
   "id": "974e975c",
   "metadata": {},
   "source": [
    "## 関節の情報"
   ]
  },
  {
   "cell_type": "markdown",
   "id": "904b37fe",
   "metadata": {},
   "source": [
    "### jointGroupについて"
   ]
  },
  {
   "cell_type": "markdown",
   "id": "d0f3fd55",
   "metadata": {},
   "source": [
    "グループの確認"
   ]
  },
  {
   "cell_type": "code",
   "execution_count": null,
   "id": "c31b11ec-a5fa-495a-b87c-f7daa4f2cb10",
   "metadata": {},
   "outputs": [
    {
     "data": {
      "text/plain": [
       "<coordinates[0x562d2b743410] 0 0 0.784 / 0 0 0 1 >"
      ]
     },
     "execution_count": 4,
     "metadata": {},
     "output_type": "execute_result"
    }
   ],
   "source": [
    "ri.jointGroupList"
   ]
  },
  {
   "cell_type": "markdown",
   "id": "52780668",
   "metadata": {},
   "source": [
    "グループの名前"
   ]
  },
  {
   "cell_type": "code",
   "execution_count": null,
   "id": "9eef7fe7",
   "metadata": {},
   "outputs": [],
   "source": [
    "ri.jointGroupNames"
   ]
  },
  {
   "cell_type": "markdown",
   "id": "3ca82de8",
   "metadata": {},
   "source": [
    "デフォルトグループの関節"
   ]
  },
  {
   "cell_type": "code",
   "execution_count": null,
   "id": "08f7515a",
   "metadata": {},
   "outputs": [],
   "source": [
    "ri.getJointGroup('default').jointNames"
   ]
  },
  {
   "cell_type": "code",
   "execution_count": null,
   "id": "761cad06",
   "metadata": {},
   "outputs": [],
   "source": [
    "ri.getJointGroup('default') is ri.jointGroupList[0]"
   ]
  },
  {
   "cell_type": "markdown",
   "id": "e946ce26",
   "metadata": {},
   "source": [
    "### 関節に関するセンシング情報"
   ]
  },
  {
   "cell_type": "markdown",
   "id": "49f78a9c",
   "metadata": {},
   "source": [
    "センシングした関節角度"
   ]
  },
  {
   "cell_type": "code",
   "execution_count": null,
   "id": "1fff8946",
   "metadata": {},
   "outputs": [],
   "source": [
    "ri.actualAngleVector"
   ]
  },
  {
   "cell_type": "markdown",
   "id": "c230ad59",
   "metadata": {},
   "source": [
    "参照値（コマンドで送っている値、現状ではassemblerの実機では取れない）"
   ]
  },
  {
   "cell_type": "code",
   "execution_count": null,
   "id": "f048c86c",
   "metadata": {},
   "outputs": [],
   "source": [
    "ri.referenceAngleVector"
   ]
  },
  {
   "cell_type": "markdown",
   "id": "73af4d90",
   "metadata": {},
   "source": [
    "速度"
   ]
  },
  {
   "cell_type": "code",
   "execution_count": null,
   "id": "92c0035f",
   "metadata": {},
   "outputs": [],
   "source": [
    "ri.velocityVector"
   ]
  },
  {
   "cell_type": "markdown",
   "id": "d0cc1307",
   "metadata": {},
   "source": [
    "エフォート（トルク、力）"
   ]
  },
  {
   "cell_type": "code",
   "execution_count": null,
   "id": "68f23311",
   "metadata": {},
   "outputs": [],
   "source": [
    "ri.effortVector"
   ]
  },
  {
   "cell_type": "markdown",
   "id": "5e40d5fa",
   "metadata": {},
   "source": [
    "## ロボットへ関節角度を送る"
   ]
  },
  {
   "cell_type": "markdown",
   "id": "78c15f20",
   "metadata": {},
   "source": [
    "### モデルの姿勢を実機へ送る"
   ]
  },
  {
   "cell_type": "markdown",
   "id": "5b001d4d",
   "metadata": {},
   "source": [
    "モデルへ角度セット、名前指定 (表示が変わる)"
   ]
  },
  {
   "cell_type": "code",
   "execution_count": null,
   "id": "37c1597d",
   "metadata": {},
   "outputs": [],
   "source": [
    "robot.setJointMap({'joint2': -0.4})"
   ]
  },
  {
   "cell_type": "markdown",
   "id": "dec16ed9",
   "metadata": {},
   "source": [
    "角度を送る\n",
    "\n",
    "```ri.sendAngleVector(<angle-vector>, <動作時間[秒]>)```"
   ]
  },
  {
   "cell_type": "code",
   "execution_count": null,
   "id": "6be035a2",
   "metadata": {},
   "outputs": [],
   "source": [
    "ri.sendAngleVector(robot.angleVector(), 4.0)"
   ]
  },
  {
   "cell_type": "markdown",
   "id": "82aa2095",
   "metadata": {},
   "source": [
    "動作終了を待つ\n",
    "\n",
    "```ri.waitUntilFinish(<タイムアウト[秒]>)```"
   ]
  },
  {
   "cell_type": "code",
   "execution_count": null,
   "id": "33542bc7",
   "metadata": {},
   "outputs": [],
   "source": [
    "ri.waitUntilFinish(5.0)"
   ]
  },
  {
   "cell_type": "markdown",
   "id": "9579ea47",
   "metadata": {},
   "source": [
    "モデルへ角度セット、ベクトル指定(表示が変わる)"
   ]
  },
  {
   "cell_type": "code",
   "execution_count": null,
   "id": "ee720d0e",
   "metadata": {},
   "outputs": [],
   "source": [
    "robot.angleVector(nap([0.8, 0.8]))"
   ]
  },
  {
   "cell_type": "markdown",
   "id": "caf09434",
   "metadata": {},
   "source": [
    "角度を送る"
   ]
  },
  {
   "cell_type": "code",
   "execution_count": null,
   "id": "a2b6a87e",
   "metadata": {},
   "outputs": [],
   "source": [
    "ri.sendAngleVector(robot.angleVector(), 10.0)"
   ]
  },
  {
   "cell_type": "markdown",
   "id": "9da29129",
   "metadata": {},
   "source": [
    "動作終了を待つ"
   ]
  },
  {
   "cell_type": "code",
   "execution_count": null,
   "id": "97943477",
   "metadata": {},
   "outputs": [],
   "source": [
    "ri.waitUntilFinish(11.0)"
   ]
  },
  {
   "cell_type": "markdown",
   "id": "b631848a",
   "metadata": {},
   "source": [
    "### IKを使って姿勢を変える"
   ]
  },
  {
   "cell_type": "code",
   "execution_count": null,
   "id": "e3901351",
   "metadata": {},
   "outputs": [],
   "source": [
    "cds = robot.arm.endEffector"
   ]
  },
  {
   "cell_type": "code",
   "execution_count": null,
   "id": "099b52f8",
   "metadata": {},
   "outputs": [],
   "source": [
    "cds.translate(npa([0.04, 0, 0]))"
   ]
  },
  {
   "cell_type": "code",
   "execution_count": null,
   "id": "62afa1c3",
   "metadata": {},
   "outputs": [],
   "source": [
    "robot.arm.inverseKinematics(cds, constraint='xyz')"
   ]
  },
  {
   "cell_type": "code",
   "execution_count": null,
   "id": "e62fec88",
   "metadata": {},
   "outputs": [],
   "source": [
    "ri.sendAngleVector(robot.angleVector(), 2.0);"
   ]
  },
  {
   "cell_type": "code",
   "execution_count": null,
   "id": "51c85ab5",
   "metadata": {},
   "outputs": [],
   "source": [
    "ri.waitUntilFinish(3.0)"
   ]
  },
  {
   "cell_type": "markdown",
   "id": "2960d8ae",
   "metadata": {},
   "source": [
    "## 台車を動かす"
   ]
  },
  {
   "cell_type": "markdown",
   "id": "895c1786",
   "metadata": {},
   "source": [
    "台車を移動させる\n",
    "\n",
    "```ri.move_velocity(<x軸方向速度>, <y軸方向速度>, <z軸回転角速度>)```"
   ]
  },
  {
   "cell_type": "code",
   "execution_count": null,
   "id": "2b814e75",
   "metadata": {},
   "outputs": [],
   "source": [
    "ri.move_velocity(0.1, 0, 0)"
   ]
  },
  {
   "cell_type": "markdown",
   "id": "ab4f0f1b",
   "metadata": {},
   "source": [
    "waitする。現状はスリープしている。"
   ]
  },
  {
   "cell_type": "code",
   "execution_count": null,
   "id": "3e75e88d",
   "metadata": {},
   "outputs": [],
   "source": [
    "r.waitFinishMoving(2.0)"
   ]
  },
  {
   "cell_type": "markdown",
   "id": "f9eaecf9",
   "metadata": {},
   "source": [
    "動作停止"
   ]
  },
  {
   "cell_type": "code",
   "execution_count": null,
   "id": "f5537dd1",
   "metadata": {},
   "outputs": [],
   "source": [
    "ri.stop()"
   ]
  },
  {
   "cell_type": "markdown",
   "id": "591726c6",
   "metadata": {},
   "source": [
    "## センサーデータの使い方"
   ]
  },
  {
   "cell_type": "markdown",
   "id": "474f728b",
   "metadata": {},
   "source": [
    "### センサデバイスの名前"
   ]
  },
  {
   "cell_type": "code",
   "execution_count": null,
   "id": "b1fbff92",
   "metadata": {},
   "outputs": [],
   "source": [
    "ri.deviceNames"
   ]
  },
  {
   "cell_type": "markdown",
   "id": "387dff2e",
   "metadata": {},
   "source": [
    "### データを受け取る\n",
    "- バッファにデータがあればデータを返す\n",
    "- バッファにデータが無ければNoneが返る\n",
    "- clearするとバッファからデータを除く\n",
    "\n",
    "（前提: データを受け取るとバッファに入る）"
   ]
  },
  {
   "cell_type": "code",
   "execution_count": null,
   "id": "ae6c6e59",
   "metadata": {},
   "outputs": [],
   "source": [
    "data = ri.data('', clear=False)\n",
    "data"
   ]
  },
  {
   "cell_type": "markdown",
   "id": "cfbb65f8",
   "metadata": {},
   "source": [
    "### データが来るまで待つ\n",
    "- バッファにデータがあればデータを返す\n",
    "- バッファにデータが無ければtimeoutするまで待つ\n",
    "  - データが来れば返す、来なければNoneが返る\n",
    "- clearするとバッファからデータを除く"
   ]
  },
  {
   "cell_type": "code",
   "execution_count": null,
   "id": "25dd3c49",
   "metadata": {},
   "outputs": [],
   "source": [
    "data = ri.waitData('', timeout=1.0, clear=False)\n",
    "data"
   ]
  },
  {
   "cell_type": "markdown",
   "id": "c8ffd006",
   "metadata": {},
   "source": [
    "### 次のデータが来るまで待つ\n",
    "- バッファのデータと無関係に、データが来るのをtimeoutするまで待つ\n",
    "  - データが来れば返す、来なければNoneが返る\n",
    "- clearするとバッファからデータを除く  \n"
   ]
  },
  {
   "cell_type": "code",
   "execution_count": null,
   "id": "0bef9e82",
   "metadata": {},
   "outputs": [],
   "source": [
    "data = ri.waitNextData('', timeout=1.0, clear=False)\n",
    "data"
   ]
  },
  {
   "cell_type": "markdown",
   "id": "dee95ebb",
   "metadata": {},
   "source": [
    "## ループの作り方"
   ]
  },
  {
   "cell_type": "code",
   "execution_count": null,
   "id": "fc475dc1",
   "metadata": {},
   "outputs": [],
   "source": [
    "import rospy\n",
    "while rospy.ok():\n",
    "    ## <programs>\n",
    "    rospy.sleep(0.1)\n"
   ]
  }
 ],
 "metadata": {
  "kernelspec": {
   "display_name": "Robot Programming",
   "language": "python",
   "name": "roboprog"
  },
  "language_info": {
   "codemirror_mode": "",
   "file_extension": ".py",
   "mimetype": "text/x-python",
   "name": "python",
   "nbconvert_exporter": "",
   "pygments_lexer": "",
   "version": "3.7"
  }
 },
 "nbformat": 4,
 "nbformat_minor": 5
}
